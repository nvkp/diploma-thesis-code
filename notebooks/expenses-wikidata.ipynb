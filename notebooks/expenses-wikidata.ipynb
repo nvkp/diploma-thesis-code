{
 "cells": [
  {
   "cell_type": "code",
   "execution_count": 1,
   "metadata": {},
   "outputs": [],
   "source": [
    "kernel.silent(true)"
   ]
  },
  {
   "cell_type": "code",
   "execution_count": 2,
   "metadata": {},
   "outputs": [],
   "source": [
    "import coursierapi.MavenRepository\n",
    "interp.repositories() ++= Seq(MavenRepository.of(\"https://jitpack.io\"))"
   ]
  },
  {
   "cell_type": "code",
   "execution_count": 3,
   "metadata": {},
   "outputs": [],
   "source": [
    "import $ivy.`com.github.propi:rdfrules:1.5.0`\n",
    "import collection._\n",
    "import org.apache.jena.riot.Lang\n",
    "\n",
    "import com.github.propi.rdfrules.data._\n",
    "import com.github.propi.rdfrules.algorithm.amie._\n",
    "import com.github.propi.rdfrules.algorithm.dbscan._\n",
    "import com.github.propi.rdfrules.utils._\n",
    "import com.github.propi.rdfrules.index._\n",
    "import com.github.propi.rdfrules.rule._\n",
    "import com.github.propi.rdfrules.ruleset._"
   ]
  },
  {
   "cell_type": "code",
   "execution_count": 4,
   "metadata": {},
   "outputs": [],
   "source": [
    "val expensesDataset = Dataset.fromCache(\"../cache/expensesCube.cache\")\n",
    "val wikidataDataset = Dataset.fromCache(\"../cache/wikidata.cache\")"
   ]
  },
  {
   "cell_type": "code",
   "execution_count": 5,
   "metadata": {},
   "outputs": [],
   "source": [
    "val refPeriodLinking = Dataset(\"../data/linking/refPeriodLinking.ttl\")"
   ]
  },
  {
   "cell_type": "code",
   "execution_count": 6,
   "metadata": {},
   "outputs": [
    {
     "name": "stdout",
     "output_type": "stream",
     "text": [
      "25194\n"
     ]
    }
   ],
   "source": [
    "val dataset = expensesDataset + wikidataDataset + refPeriodLinking\n",
    "println(dataset.size)"
   ]
  },
  {
   "cell_type": "code",
   "execution_count": 7,
   "metadata": {},
   "outputs": [],
   "source": [
    "val index = dataset.index()"
   ]
  },
  {
   "cell_type": "code",
   "execution_count": 8,
   "metadata": {},
   "outputs": [],
   "source": [
    "val uri = (value: String) => TripleItem.Uri(value)\n",
    "val czURI = uri(\"http://www.wikidata.org/entity/Q213\")\n",
    "val qbDataSet = \"http://purl.org/linked-data/cube#dataSet\"\n",
    "val cssaDimension = \"https://data.cssz.cz/ontology/dimension/\"\n",
    "val expenses = uri(\"https://data.cssz.cz/ontology/measure/vydaje-na-duchody-opravene-o-zalohy-v-tis-kc\")\n",
    "val cssaRefPeriod = uri(cssaDimension+\"refPeriod\")\n",
    "val qbdPredicate = uri(qbDataSet)\n",
    "val appliesTo = uri(\"http://kizi.vse.cz/novp19/diploma-thesis/appliesToRefPeriod\")\n",
    "val wdProperty = (value: Int) => uri(\"http://www.wikidata.org/prop/P\" + value)"
   ]
  },
  {
   "cell_type": "markdown",
   "metadata": {},
   "source": [
    "# alignment -> expenses"
   ]
  },
  {
   "cell_type": "code",
   "execution_count": 9,
   "metadata": {},
   "outputs": [],
   "source": [
    "val alignmentExpenses: RulePattern = (\n",
    "    AtomPattern(subject = 'f', predicate = appliesTo, `object` = 'b') &:\n",
    "    AtomPattern(subject = czURI, predicate = wdProperty(6), `object` = 'f') &:\n",
    "    AtomPattern(subject = 'f', predicate = wdProperty(6), `object` = 'e') &:\n",
    "    AtomPattern(subject = 'e', predicate = wdProperty(102), `object` = 'c') &:  \n",
    "    AtomPattern(subject = 'd', predicate = wdProperty(1387)) &:\n",
    "    AtomPattern(subject = 'c', predicate = wdProperty(102), `object` = 'd') &:\n",
    "    AtomPattern(subject = 'c', predicate = appliesTo, `object` = 'b') &:\n",
    "    AtomPattern(subject = 'a', predicate = cssaRefPeriod, `object` = 'b') &:\n",
    "    AtomPattern(subject = 'a', predicate = qbdPredicate, `object` = AnyConstant)\n",
    "    =>:\n",
    "    AtomPattern(subject = 'a', predicate = expenses)\n",
    ")"
   ]
  },
  {
   "cell_type": "code",
   "execution_count": 10,
   "metadata": {},
   "outputs": [],
   "source": [
    "val alignmentExpensesTask = Amie()\n",
    "    .addThreshold(Threshold.MaxRuleLength(10))\n",
    "    .addThreshold(Threshold.Timeout(1))\n",
    "    .addPattern(alignmentExpenses)"
   ]
  },
  {
   "cell_type": "code",
   "execution_count": 11,
   "metadata": {},
   "outputs": [
    {
     "name": "stderr",
     "output_type": "stream",
     "text": [
      "2021-09-14 08:41:08:076 +0200 [scala-interpreter-1] INFO com.github.propi.rdfrules.utils.Debugger - Predicates trimming.\n",
      "2021-09-14 08:41:08:111 +0200 [scala-interpreter-1] INFO com.github.propi.rdfrules.utils.Debugger - Subjects indexing.\n",
      "2021-09-14 08:41:08:168 +0200 [scala-interpreter-1] INFO com.github.propi.rdfrules.utils.Debugger - Subjects trimming.\n",
      "2021-09-14 08:41:08:184 +0200 [scala-interpreter-1] INFO com.github.propi.rdfrules.utils.Debugger - Objects indexing.\n",
      "2021-09-14 08:41:08:222 +0200 [scala-interpreter-1] INFO com.github.propi.rdfrules.utils.Debugger - Objects trimming.\n",
      "2021-09-14 08:41:08:272 +0200 [scala-interpreter-1] INFO com.github.propi.rdfrules.utils.Debugger - Amie task settings:\n",
      "MinHeadSize=100,\n",
      "MinHeadCoverage=0.0,\n",
      "MinSupport=1,\n",
      "MaxThreads=4,\n",
      "MinAtomSize=0,\n",
      "MaxRuleLength=10,\n",
      "WithConstants=true,\n",
      "ConstantsPosition=All,\n",
      "Timeout=60000,\n",
      "WithDuplicitPredicates=true,\n",
      "Patterns=List(Mapped(Vector(Mapped(Variable(?f),Constant(Constant(217712947)),Variable(?b),Any), Mapped(Constant(Constant(-1927475503)),Constant(Constant(774364698)),Variable(?f),Any), Mapped(Variable(?f),Constant(Constant(774364698)),Variable(?e),Any), Mapped(Variable(?e),Constant(Constant(52500897)),Variable(?c),Any), Mapped(Variable(?d),Constant(Constant(1496784743)),Any,Any), Mapped(Variable(?c),Constant(Constant(52500897)),Variable(?d),Any), Mapped(Variable(?c),Constant(Constant(217712947)),Variable(?b),Any), Mapped(Variable(?a),Constant(Constant(1169043154)),Variable(?b),Any), Mapped(Variable(?a),Constant(Constant(624690160)),AnyConstant,Any)),Some(Mapped(Variable(?a),Constant(Constant(2137166855)),Any,Any)),false,false)),\n",
      "OnlyPredicates=None,\n",
      "WithoutPredicates=None\n"
     ]
    },
    {
     "name": "stdout",
     "output_type": "stream",
     "text": [
      "rules: 96\n",
      "duration: 3s\n"
     ]
    }
   ],
   "source": [
    "val startTimeMillis = System.currentTimeMillis()\n",
    "val alignmentExpensesTaskRuleset = index.mine(alignmentExpensesTask)\n",
    "println(\"rules: \"+alignmentExpensesTaskRuleset.size)\n",
    "val endTimeMillis = System.currentTimeMillis()\n",
    "val durationSeconds = (endTimeMillis - startTimeMillis) / 1000\n",
    "println(\"duration: \" + durationSeconds + \"s\")"
   ]
  },
  {
   "cell_type": "code",
   "execution_count": 12,
   "metadata": {},
   "outputs": [],
   "source": [
    "alignmentExpensesTaskRuleset.export(\"../rulesets/expenses-wikidata/alignmentExpensesTaskRuleset.txt\")"
   ]
  },
  {
   "cell_type": "code",
   "execution_count": 13,
   "metadata": {},
   "outputs": [
    {
     "name": "stdout",
     "output_type": "stream",
     "text": [
      "rules: 58\n"
     ]
    }
   ],
   "source": [
    "val alignmentExpensesTaskRulesetFiltered = alignmentExpensesTaskRuleset\n",
    ".filter(rule => rule.measures(Measure.Support).value > 1)\n",
    ".computePcaConfidence(0.0)\n",
    ".computeConfidence(0.0)\n",
    ".computeLift()\n",
    ".sortBy(Measure.PcaConfidence, Measure.Support)\n",
    "\n",
    "println(\"rules: \"+alignmentExpensesTaskRulesetFiltered.size)\n",
    "alignmentExpensesTaskRulesetFiltered.export(\"../rulesets/expenses-wikidata/alignmentExpensesTaskRulesetFiltered.txt\")"
   ]
  },
  {
   "cell_type": "markdown",
   "metadata": {},
   "source": [
    "# party -> expenses"
   ]
  },
  {
   "cell_type": "code",
   "execution_count": 14,
   "metadata": {},
   "outputs": [],
   "source": [
    "val partyExpenses: RulePattern = (\n",
    "    AtomPattern(subject = 'e', predicate = appliesTo, `object` = 'b') &:\n",
    "    AtomPattern(subject = czURI, predicate = wdProperty(6), `object` = 'e') &:\n",
    "    AtomPattern(subject = 'e', predicate = wdProperty(6), `object` = 'd') &:\n",
    "    AtomPattern(subject = 'd', predicate = wdProperty(102), `object` = 'c') &:  \n",
    "    AtomPattern(subject = 'c', predicate = wdProperty(102), `object` = AnyConstant) &:\n",
    "    AtomPattern(subject = 'c', predicate = appliesTo, `object` = 'b') &:\n",
    "    AtomPattern(subject = 'a', predicate = cssaRefPeriod, `object` = 'b') &:\n",
    "    AtomPattern(subject = 'a', predicate = qbdPredicate, `object` = AnyConstant)\n",
    "    =>:\n",
    "    AtomPattern(subject = 'a', predicate = expenses)\n",
    ")"
   ]
  },
  {
   "cell_type": "code",
   "execution_count": 15,
   "metadata": {},
   "outputs": [],
   "source": [
    "val partyExpensesTask = Amie()\n",
    "    .addThreshold(Threshold.MaxRuleLength(9))\n",
    "    .addThreshold(Threshold.Timeout(1))\n",
    "    .addPattern(partyExpenses)"
   ]
  },
  {
   "cell_type": "code",
   "execution_count": 16,
   "metadata": {},
   "outputs": [
    {
     "name": "stderr",
     "output_type": "stream",
     "text": [
      "2021-06-19 16:11:41:695 +0200 [scala-interpreter-1] INFO com.github.propi.rdfrules.utils.Debugger - Amie task settings:\n",
      "MinHeadSize=100,\n",
      "MinHeadCoverage=0.0,\n",
      "MinSupport=1,\n",
      "MaxThreads=4,\n",
      "MinAtomSize=0,\n",
      "MaxRuleLength=9,\n",
      "WithConstants=true,\n",
      "ConstantsPosition=All,\n",
      "Timeout=60000,\n",
      "WithDuplicitPredicates=true,\n",
      "Patterns=List(Mapped(Vector(Mapped(Variable(?e),Constant(Constant(217712947)),Variable(?b),Any), Mapped(Constant(Constant(-1927475503)),Constant(Constant(774364698)),Variable(?e),Any), Mapped(Variable(?e),Constant(Constant(774364698)),Variable(?d),Any), Mapped(Variable(?d),Constant(Constant(52500897)),Variable(?c),Any), Mapped(Variable(?c),Constant(Constant(52500897)),AnyConstant,Any), Mapped(Variable(?c),Constant(Constant(217712947)),Variable(?b),Any), Mapped(Variable(?a),Constant(Constant(1169043154)),Variable(?b),Any), Mapped(Variable(?a),Constant(Constant(624690160)),AnyConstant,Any)),Some(Mapped(Variable(?a),Constant(Constant(2137166855)),Any,Any)),false,false)),\n",
      "OnlyPredicates=None,\n",
      "WithoutPredicates=None\n"
     ]
    },
    {
     "name": "stdout",
     "output_type": "stream",
     "text": [
      "rules: 48\n",
      "duration: 1s\n"
     ]
    }
   ],
   "source": [
    "val startTimeMillis = System.currentTimeMillis()\n",
    "val partyExpensesTaskRuleset = index.mine(partyExpensesTask)\n",
    "println(\"rules: \"+partyExpensesTaskRuleset.size)\n",
    "val endTimeMillis = System.currentTimeMillis()\n",
    "val durationSeconds = (endTimeMillis - startTimeMillis) / 1000\n",
    "println(\"duration: \" + durationSeconds + \"s\")"
   ]
  },
  {
   "cell_type": "code",
   "execution_count": 17,
   "metadata": {},
   "outputs": [],
   "source": [
    "partyExpensesTaskRuleset.export(\"../rulesets/expenses-wikidata/partyExpensesTaskRuleset.txt\")"
   ]
  },
  {
   "cell_type": "code",
   "execution_count": 18,
   "metadata": {},
   "outputs": [
    {
     "name": "stdout",
     "output_type": "stream",
     "text": [
      "rules: 29\n"
     ]
    }
   ],
   "source": [
    "val partyExpensesTaskRulesetFiltered = partyExpensesTaskRuleset\n",
    ".filter(rule => rule.measures(Measure.Support).value > 1)\n",
    ".computePcaConfidence(0.0)\n",
    ".computeConfidence(0.0)\n",
    ".computeLift()\n",
    ".sortBy(Measure.PcaConfidence, Measure.Support)\n",
    "\n",
    "println(\"rules: \"+partyExpensesTaskRulesetFiltered.size)\n",
    "partyExpensesTaskRulesetFiltered.export(\"../rulesets/expenses-wikidata/partyExpensesTaskRulesetFiltered.txt\")"
   ]
  },
  {
   "cell_type": "markdown",
   "metadata": {},
   "source": [
    "# expenses -> party"
   ]
  },
  {
   "cell_type": "code",
   "execution_count": 19,
   "metadata": {},
   "outputs": [],
   "source": [
    "val expensesParty: RulePattern = (\n",
    "    AtomPattern(subject = czURI, predicate = wdProperty(6), `object` = 'e') &:\n",
    "    AtomPattern(subject = 'e', predicate = wdProperty(6), `object` = 'd') &:\n",
    "    AtomPattern(subject = 'd', predicate = wdProperty(102), `object` = 'a') &:\n",
    "    AtomPattern(subject = 'c', predicate = expenses) &:\n",
    "    AtomPattern(subject = 'c', predicate = qbdPredicate, `object` = AnyConstant) &:\n",
    "    AtomPattern(subject = 'c', predicate = cssaRefPeriod, `object` = 'b') &:\n",
    "    AtomPattern(subject = 'a', predicate = appliesTo, `object` = 'b')\n",
    "    =>:\n",
    "    AtomPattern(subject = 'a', predicate = wdProperty(102), `object` = AnyConstant)\n",
    ")"
   ]
  },
  {
   "cell_type": "code",
   "execution_count": 20,
   "metadata": {},
   "outputs": [],
   "source": [
    "val expensesPartyTask = Amie()\n",
    "    .addThreshold(Threshold.MinSupport(1))\n",
    "    .addThreshold(Threshold.MaxRuleLength(8))\n",
    "    .addThreshold(Threshold.MinHeadSize(0))\n",
    "    .addThreshold(Threshold.Timeout(1))\n",
    "    .addPattern(expensesParty)"
   ]
  },
  {
   "cell_type": "code",
   "execution_count": 21,
   "metadata": {},
   "outputs": [
    {
     "name": "stderr",
     "output_type": "stream",
     "text": [
      "2021-06-19 16:11:44:223 +0200 [scala-interpreter-1] INFO com.github.propi.rdfrules.utils.Debugger - Amie task settings:\n",
      "MinHeadSize=1,\n",
      "MinHeadCoverage=0.0,\n",
      "MinSupport=1,\n",
      "MaxThreads=4,\n",
      "MinAtomSize=0,\n",
      "MaxRuleLength=8,\n",
      "WithConstants=true,\n",
      "ConstantsPosition=All,\n",
      "Timeout=60000,\n",
      "WithDuplicitPredicates=true,\n",
      "Patterns=List(Mapped(Vector(Mapped(Constant(Constant(-1927475503)),Constant(Constant(774364698)),Variable(?e),Any), Mapped(Variable(?e),Constant(Constant(774364698)),Variable(?d),Any), Mapped(Variable(?d),Constant(Constant(52500897)),Variable(?a),Any), Mapped(Variable(?c),Constant(Constant(2137166855)),Any,Any), Mapped(Variable(?c),Constant(Constant(624690160)),AnyConstant,Any), Mapped(Variable(?c),Constant(Constant(1169043154)),Variable(?b),Any), Mapped(Variable(?a),Constant(Constant(217712947)),Variable(?b),Any)),Some(Mapped(Variable(?a),Constant(Constant(52500897)),AnyConstant,Any)),false,false)),\n",
      "OnlyPredicates=None,\n",
      "WithoutPredicates=None\n"
     ]
    },
    {
     "name": "stdout",
     "output_type": "stream",
     "text": [
      "rules: 48\n",
      "duration: 0s\n"
     ]
    }
   ],
   "source": [
    "val startTimeMillis = System.currentTimeMillis()\n",
    "val expensesPartyTaskRuleset = index.mine(expensesPartyTask)\n",
    "println(\"rules: \"+expensesPartyTaskRuleset.size)\n",
    "val endTimeMillis = System.currentTimeMillis()\n",
    "val durationSeconds = (endTimeMillis - startTimeMillis) / 1000\n",
    "println(\"duration: \" + durationSeconds + \"s\")"
   ]
  },
  {
   "cell_type": "code",
   "execution_count": 22,
   "metadata": {},
   "outputs": [],
   "source": [
    "expensesPartyTaskRuleset.export(\"../rulesets/expensesPartyTaskRuleset.txt\")"
   ]
  },
  {
   "cell_type": "code",
   "execution_count": 23,
   "metadata": {},
   "outputs": [],
   "source": [
    "expensesPartyTaskRuleset\n",
    ".filter(rule => rule.measures(Measure.Support).value > 1)\n",
    ".computePcaConfidence(0.0)\n",
    ".sortBy(Measure.PcaConfidence, Measure.Support)\n",
    ".export(\"../rulesets/expensesPartyTaskRulesetFiltered.txt\")"
   ]
  },
  {
   "cell_type": "markdown",
   "metadata": {},
   "source": [
    "# expenses -> alignment"
   ]
  },
  {
   "cell_type": "code",
   "execution_count": 24,
   "metadata": {},
   "outputs": [],
   "source": [
    "val expensesAlignment: RulePattern = (\n",
    "    AtomPattern(subject = czURI, predicate = wdProperty(6), `object` = 'f') &:\n",
    "    AtomPattern(subject = 'f', predicate = wdProperty(6), `object` = 'e') &:\n",
    "    AtomPattern(subject = 'e', predicate = wdProperty(102), `object` = 'b') &:  \n",
    "    AtomPattern(subject = 'd', predicate = expenses) &: \n",
    "    AtomPattern(subject = 'd', predicate = qbdPredicate, `object` = AnyConstant) &:\n",
    "    AtomPattern(subject = 'd', predicate = cssaRefPeriod, `object` = 'c') &:\n",
    "    AtomPattern(subject = 'b', predicate = appliesTo, `object` = 'c') &:\n",
    "    AtomPattern(subject = 'b', predicate = wdProperty(102), `object` = 'a')\n",
    "    =>:\n",
    "    AtomPattern(subject = 'a', predicate = wdProperty(1387))\n",
    ")"
   ]
  },
  {
   "cell_type": "code",
   "execution_count": 25,
   "metadata": {},
   "outputs": [],
   "source": [
    "val expensesAlignmentTask = Amie()\n",
    "    .addThreshold(Threshold.MinSupport(1))\n",
    "    .addThreshold(Threshold.MaxRuleLength(9))\n",
    "    .addThreshold(Threshold.MinHeadSize(0))\n",
    "    .addThreshold(Threshold.Timeout(1))\n",
    "    .addPattern(expensesAlignment)"
   ]
  },
  {
   "cell_type": "code",
   "execution_count": 26,
   "metadata": {},
   "outputs": [
    {
     "name": "stderr",
     "output_type": "stream",
     "text": [
      "2021-06-19 16:11:45:989 +0200 [scala-interpreter-1] INFO com.github.propi.rdfrules.utils.Debugger - Amie task settings:\n",
      "MinHeadSize=1,\n",
      "MinHeadCoverage=0.0,\n",
      "MinSupport=1,\n",
      "MaxThreads=4,\n",
      "MinAtomSize=0,\n",
      "MaxRuleLength=9,\n",
      "WithConstants=true,\n",
      "ConstantsPosition=All,\n",
      "Timeout=60000,\n",
      "WithDuplicitPredicates=true,\n",
      "Patterns=List(Mapped(Vector(Mapped(Constant(Constant(-1927475503)),Constant(Constant(774364698)),Variable(?f),Any), Mapped(Variable(?f),Constant(Constant(774364698)),Variable(?e),Any), Mapped(Variable(?e),Constant(Constant(52500897)),Variable(?b),Any), Mapped(Variable(?d),Constant(Constant(2137166855)),Any,Any), Mapped(Variable(?d),Constant(Constant(624690160)),AnyConstant,Any), Mapped(Variable(?d),Constant(Constant(1169043154)),Variable(?c),Any), Mapped(Variable(?b),Constant(Constant(217712947)),Variable(?c),Any), Mapped(Variable(?b),Constant(Constant(52500897)),Variable(?a),Any)),Some(Mapped(Variable(?a),Constant(Constant(1496784743)),Any,Any)),false,false)),\n",
      "OnlyPredicates=None,\n",
      "WithoutPredicates=None\n"
     ]
    },
    {
     "name": "stdout",
     "output_type": "stream",
     "text": [
      "rules: 96\n",
      "duration: 0s\n"
     ]
    }
   ],
   "source": [
    "val startTimeMillis = System.currentTimeMillis()\n",
    "val expensesAlignmentTaskRuleset = index.mine(expensesAlignmentTask)\n",
    "println(\"rules: \"+expensesAlignmentTaskRuleset.size)\n",
    "val endTimeMillis = System.currentTimeMillis()\n",
    "val durationSeconds = (endTimeMillis - startTimeMillis) / 1000\n",
    "println(\"duration: \" + durationSeconds + \"s\")"
   ]
  },
  {
   "cell_type": "code",
   "execution_count": 27,
   "metadata": {},
   "outputs": [],
   "source": [
    "alignmentExpensesTaskRuleset.export(\"../rulesets/expensesAlignmentTaskRuleset.txt\")"
   ]
  },
  {
   "cell_type": "code",
   "execution_count": 28,
   "metadata": {},
   "outputs": [],
   "source": [
    "expensesAlignmentTaskRuleset\n",
    ".filter(rule => rule.measures(Measure.Support).value > 1)\n",
    ".computePcaConfidence(0.0)\n",
    ".sortBy(Measure.PcaConfidence, Measure.Support)\n",
    ".export(\"../rulesets/expensesAlignmentTaskRulesetFiltered.txt\")"
   ]
  }
 ],
 "metadata": {
  "kernelspec": {
   "display_name": "Scala",
   "language": "scala",
   "name": "scala"
  },
  "language_info": {
   "codemirror_mode": "text/x-scala",
   "file_extension": ".sc",
   "mimetype": "text/x-scala",
   "name": "scala",
   "nbconvert_exporter": "script",
   "version": "2.12.8"
  }
 },
 "nbformat": 4,
 "nbformat_minor": 4
}
