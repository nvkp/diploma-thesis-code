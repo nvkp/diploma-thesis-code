{
 "cells": [
  {
   "cell_type": "code",
   "execution_count": 1,
   "metadata": {},
   "outputs": [],
   "source": [
    "kernel.silent(true)"
   ]
  },
  {
   "cell_type": "code",
   "execution_count": 2,
   "metadata": {},
   "outputs": [],
   "source": [
    "import coursierapi.MavenRepository\n",
    "interp.repositories() ++= Seq(MavenRepository.of(\"https://jitpack.io\"))"
   ]
  },
  {
   "cell_type": "code",
   "execution_count": 3,
   "metadata": {},
   "outputs": [],
   "source": [
    "import $ivy.`com.github.propi:rdfrules:1.5.0`\n",
    "import collection._\n",
    "import org.apache.jena.riot.Lang\n",
    "\n",
    "import com.github.propi.rdfrules.data._\n",
    "import com.github.propi.rdfrules.algorithm.amie._\n",
    "import com.github.propi.rdfrules.algorithm.dbscan._\n",
    "import com.github.propi.rdfrules.utils._\n",
    "import com.github.propi.rdfrules.index._\n",
    "import com.github.propi.rdfrules.rule._\n",
    "import com.github.propi.rdfrules.ruleset._"
   ]
  },
  {
   "cell_type": "code",
   "execution_count": 4,
   "metadata": {},
   "outputs": [],
   "source": [
    "import reflect.io._, Path._\n",
    "import reflect.io._\n",
    "import Path._"
   ]
  },
  {
   "cell_type": "code",
   "execution_count": 5,
   "metadata": {},
   "outputs": [],
   "source": [
    "val uri = (value: String) => TripleItem.Uri(value)\n",
    "val qbDataSet = \"http://purl.org/linked-data/cube#dataSet\";"
   ]
  },
  {
   "cell_type": "code",
   "execution_count": 6,
   "metadata": {},
   "outputs": [],
   "source": [
    "val graphs = \"../data/salaries\".toDirectory.files.map(_.path).filter(g => g matches \"\"\".*\\.ttl\"\"\")"
   ]
  },
  {
   "cell_type": "code",
   "execution_count": 7,
   "metadata": {},
   "outputs": [
    {
     "data": {
      "text/html": [
       "<div class=\"jp-RenderedText\">\n",
       "<pre><code></code></pre>\n",
       "</div>"
      ],
      "text/plain": []
     },
     "metadata": {},
     "output_type": "display_data"
    }
   ],
   "source": [
    "var salariesCubesMap: Map[String, Graph] = Map()\n",
    "graphs.foreach(g => {\n",
    "    val name = g.replaceAll(\"\\\\.ttl\", \"\").replaceAll(\"^.*/\", \"\")\n",
    "    salariesCubesMap = salariesCubesMap + (name -> Graph(g))\n",
    "})"
   ]
  },
  {
   "cell_type": "code",
   "execution_count": 8,
   "metadata": {},
   "outputs": [],
   "source": [
    "import eu.easyminer.discretization.impl.Interval\n",
    "import eu.easyminer.discretization.impl.IntervalBound._\n",
    "val rounded = (value: Double, scale: Integer) => BigDecimal(value).setScale(scale, BigDecimal.RoundingMode.HALF_UP).toDouble\n",
    "val intervalToString = (i: Interval) => \"<\"+rounded(i.minValue.value,2)+ \"__\"+rounded(i.maxValue.value,2)+\")\""
   ]
  },
  {
   "cell_type": "code",
   "execution_count": 9,
   "metadata": {},
   "outputs": [],
   "source": [
    "val averageSalary = TripleItem.Uri(\"http://data.czso.cz/ontology/prumernaMzda\")\n",
    "val medianSalary = TripleItem.Uri(\"http://data.czso.cz/ontology/medianMzdy\")\n",
    "val measureUris = Array(averageSalary,medianSalary)"
   ]
  },
  {
   "cell_type": "code",
   "execution_count": 10,
   "metadata": {},
   "outputs": [],
   "source": [
    "val equiFrequent = (intervalCount: Int) => DiscretizationTask.Equifrequency(intervalCount)\n",
    "\n",
    "val discretizeEquifrequent = (graph: Graph, intervalsCount: Int, measure: TripleItem.Uri) => {\n",
    "    graph.filter(t => t.predicate == measure)\n",
    "         .discretize(equiFrequent(intervalsCount))(quad => quad.triple.predicate == measure)\n",
    "}\n",
    "\n",
    "val discretizeEquifrequentAndGetIntervals = (graph: Graph, intervalsCount: Int, measure: TripleItem.Uri) => {\n",
    "    graph.filter(t => t.predicate == measure)\n",
    "         .discretizeAndGetIntervals(equiFrequent(intervalsCount))(quad => quad.triple.predicate == measure)\n",
    "}"
   ]
  },
  {
   "cell_type": "code",
   "execution_count": 11,
   "metadata": {},
   "outputs": [],
   "source": [
    "import eu.easyminer.discretization.impl.Interval\n",
    "\n",
    "val renameInterval = (t: Triple, intervals: IndexedSeq[Interval], suffix: String) => {\n",
    "    var result = t\n",
    "    intervals.foreach(interval => {\n",
    "        val _interval = t.`object`.asInstanceOf[TripleItem.Interval]\n",
    "        if (_interval.interval == interval) {\n",
    "            result = t.copy(`object` = TripleItem.Uri(_interval.toString+\"_\"+suffix+\"_\"+(intervals.indexOf(interval)+1)+\"/\"+intervals.size) )\n",
    "        }\n",
    "    })\n",
    "    result\n",
    "}\n",
    "\n",
    "val discretize = (graph: Graph, name: String, intervalCounts: Array[Int]) => {\n",
    "    var result = Dataset() + \n",
    "    graph.filter(t => !measureUris.contains(t.predicate))\n",
    "    .map(t => if (t.predicate.hasSameUriAs(qbDataSet)) t.copy(`object` = uri(name)) else t)\n",
    "    \n",
    "        measureUris.foreach(measure => {\n",
    "            intervalCounts.foreach(intervalCount => {\n",
    "                val intervals = discretizeEquifrequentAndGetIntervals(graph, intervalCount, measure)\n",
    "                val measures = discretizeEquifrequent(graph, intervalCount, measure)\n",
    "                result = result + measures.map(t => {renameInterval(t, intervals, \"ef\"+intervalCount)})\n",
    "            })\n",
    "    })\n",
    "    result\n",
    "}"
   ]
  },
  {
   "cell_type": "code",
   "execution_count": 12,
   "metadata": {},
   "outputs": [
    {
     "data": {
      "text/html": [
       "<div class=\"jp-RenderedText\">\n",
       "<pre><code></code></pre>\n",
       "</div>"
      ],
      "text/plain": []
     },
     "metadata": {},
     "output_type": "display_data"
    }
   ],
   "source": [
    "val intervalCounts = Array(2, 3, 5, 7)\n",
    "var dataset = Dataset()\n",
    "salariesCubesMap\n",
    ".map(t => discretize(t._2,t._1,intervalCounts))\n",
    ".foreach(d => dataset = dataset + d)"
   ]
  },
  {
   "cell_type": "code",
   "execution_count": 13,
   "metadata": {},
   "outputs": [],
   "source": [
    "salariesCubesMap\n",
    ".foreach(d => \n",
    "         discretize(d._2,d._1,intervalCounts)\n",
    "         .cache(\"../cache/salaries/\"+d._1+\".cache\")\n",
    "         .export(\"../exports/salaries/\"+d._1+\".ttl\")\n",
    ")"
   ]
  }
 ],
 "metadata": {
  "kernelspec": {
   "display_name": "Scala",
   "language": "scala",
   "name": "scala"
  },
  "language_info": {
   "codemirror_mode": "text/x-scala",
   "file_extension": ".sc",
   "mimetype": "text/x-scala",
   "name": "scala",
   "nbconvert_exporter": "script",
   "version": "2.12.8"
  }
 },
 "nbformat": 4,
 "nbformat_minor": 4
}
