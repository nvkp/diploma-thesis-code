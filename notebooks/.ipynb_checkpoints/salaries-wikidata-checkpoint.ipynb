{
 "cells": [
  {
   "cell_type": "markdown",
   "id": "worth-singing",
   "metadata": {},
   "source": [
    "Tady bude úloha, která spojí údaje o platech v krajích s politickou reprezentací v krajích"
   ]
  },
  {
   "cell_type": "markdown",
   "id": "organic-priest",
   "metadata": {},
   "source": [
    "tady bude neco o uloze blablabla"
   ]
  },
  {
   "cell_type": "code",
   "execution_count": 1,
   "id": "distinct-costume",
   "metadata": {},
   "outputs": [],
   "source": [
    "// tady bude nacteni dependenci\n",
    "kernel.silent(true)"
   ]
  },
  {
   "cell_type": "code",
   "execution_count": 2,
   "id": "level-plaintiff",
   "metadata": {},
   "outputs": [],
   "source": [
    "import coursierapi.MavenRepository\n",
    "interp.repositories() ++= Seq(MavenRepository.of(\"https://jitpack.io\"))"
   ]
  },
  {
   "cell_type": "code",
   "execution_count": 3,
   "id": "unknown-sharp",
   "metadata": {},
   "outputs": [],
   "source": [
    "import $ivy.`com.github.propi:rdfrules:1.5.0`\n",
    "import collection._\n",
    "import org.apache.jena.riot.Lang\n",
    "\n",
    "import com.github.propi.rdfrules.data._\n",
    "import com.github.propi.rdfrules.algorithm.amie._\n",
    "import com.github.propi.rdfrules.algorithm.dbscan._\n",
    "import com.github.propi.rdfrules.utils._\n",
    "import com.github.propi.rdfrules.index._\n",
    "import com.github.propi.rdfrules.rule._\n",
    "import com.github.propi.rdfrules.ruleset._\n",
    "\n",
    "import reflect.io._, Path._\n",
    "import reflect.io._\n",
    "import Path._\n",
    "kernel.silent(false)"
   ]
  },
  {
   "cell_type": "code",
   "execution_count": 3,
   "id": "critical-livestock",
   "metadata": {},
   "outputs": [],
   "source": [
    "// tady bude nacteni a  predstaveni salaries nezpracovanych dat"
   ]
  },
  {
   "cell_type": "code",
   "execution_count": 3,
   "id": "russian-registration",
   "metadata": {},
   "outputs": [],
   "source": [
    "// tady bude zpracovani salaries dat"
   ]
  },
  {
   "cell_type": "code",
   "execution_count": 4,
   "id": "bulgarian-carolina",
   "metadata": {},
   "outputs": [
    {
     "data": {
      "text/plain": [
       "\u001b[36mgraphs\u001b[39m: \u001b[32mIterator\u001b[39m[\u001b[32mString\u001b[39m] = \u001b[32mnon-empty iterator\u001b[39m"
      ]
     },
     "execution_count": 4,
     "metadata": {},
     "output_type": "execute_result"
    }
   ],
   "source": [
    "val graphs = \"../data/salaries\".toDirectory.files.map(_.path).filter(g => g matches \"\"\".*\\.ttl\"\"\")"
   ]
  },
  {
   "cell_type": "code",
   "execution_count": 5,
   "id": "juvenile-constitutional",
   "metadata": {},
   "outputs": [
    {
     "data": {
      "text/html": [
       "<div class=\"jp-RenderedText\">\n",
       "<pre><code><span style=\"color: rgb(0, 187, 187)\"><span class=\"ansi-cyan-fg\">salariesCubesMap</span></span>: <span style=\"color: rgb(0, 187, 0)\"><span class=\"ansi-green-fg\">Map</span></span>[<span style=\"color: rgb(0, 187, 0)\"><span class=\"ansi-green-fg\">String</span></span>, <span style=\"color: rgb(0, 187, 0)\"><span class=\"ansi-green-fg\">Graph</span></span>] = <span style=\"color: yellow\"><span class=\"ansi-yellow-fg\">Map</span></span>(\n",
       "  <span style=\"color: rgb(0, 187, 0)\"><span class=\"ansi-green-fg\">&quot;salaries-female&quot;</span></span> -&gt; com.github.propi.rdfrules.data.Graph@75e19d9d,\n",
       "  <span style=\"color: rgb(0, 187, 0)\"><span class=\"ansi-green-fg\">&quot;salaries-male&quot;</span></span> -&gt; com.github.propi.rdfrules.data.Graph@4fcaffee,\n",
       "  <span style=\"color: rgb(0, 187, 0)\"><span class=\"ansi-green-fg\">&quot;salaries-total&quot;</span></span> -&gt; com.github.propi.rdfrules.data.Graph@522d05a1\n",
       ")</code></pre>\n",
       "</div>"
      ],
      "text/plain": [
       "\u001b[36msalariesCubesMap\u001b[39m: \u001b[32mMap\u001b[39m[\u001b[32mString\u001b[39m, \u001b[32mGraph\u001b[39m] = \u001b[33mMap\u001b[39m(\n",
       "  \u001b[32m\"salaries-female\"\u001b[39m -> com.github.propi.rdfrules.data.Graph@75e19d9d,\n",
       "  \u001b[32m\"salaries-male\"\u001b[39m -> com.github.propi.rdfrules.data.Graph@4fcaffee,\n",
       "  \u001b[32m\"salaries-total\"\u001b[39m -> com.github.propi.rdfrules.data.Graph@522d05a1\n",
       ")"
      ]
     },
     "metadata": {},
     "output_type": "display_data"
    }
   ],
   "source": [
    "var salariesCubesMap: Map[String, Graph] = Map()\n",
    "graphs.foreach(g => {\n",
    "    val name = g.replaceAll(\"\\\\.ttl\", \"\").replaceAll(\"^.*/\", \"\")\n",
    "    salariesCubesMap = salariesCubesMap + (name -> Graph(g))\n",
    "})"
   ]
  },
  {
   "cell_type": "code",
   "execution_count": 6,
   "id": "needed-information",
   "metadata": {},
   "outputs": [
    {
     "data": {
      "text/plain": [
       "\u001b[32mimport \u001b[39m\u001b[36meu.easyminer.discretization.impl.Interval\n",
       "\u001b[39m\n",
       "\u001b[32mimport \u001b[39m\u001b[36meu.easyminer.discretization.impl.IntervalBound._\n",
       "\u001b[39m\n",
       "\u001b[36mrounded\u001b[39m: (\u001b[32mDouble\u001b[39m, \u001b[32mInteger\u001b[39m) => \u001b[32mDouble\u001b[39m = ammonite.$sess.cmd5$Helper$$Lambda$2970/0x0000000840cf7040@5f77f420\n",
       "\u001b[36mintervalToString\u001b[39m: \u001b[32mInterval\u001b[39m => \u001b[32mString\u001b[39m = ammonite.$sess.cmd5$Helper$$Lambda$2971/0x0000000840cf8040@4e0603ce"
      ]
     },
     "execution_count": 6,
     "metadata": {},
     "output_type": "execute_result"
    }
   ],
   "source": [
    "import eu.easyminer.discretization.impl.Interval\n",
    "import eu.easyminer.discretization.impl.IntervalBound._\n",
    "val rounded = (value: Double, scale: Integer) => BigDecimal(value).setScale(scale, BigDecimal.RoundingMode.HALF_UP).toDouble\n",
    "val intervalToString = (i: Interval) => \"<\"+rounded(i.minValue.value,2)+ \"__\"+rounded(i.maxValue.value,2)+\")\""
   ]
  },
  {
   "cell_type": "code",
   "execution_count": 7,
   "id": "pediatric-turning",
   "metadata": {},
   "outputs": [
    {
     "data": {
      "text/plain": [
       "\u001b[36muri\u001b[39m: \u001b[32mString\u001b[39m => \u001b[32mTripleItem\u001b[39m.\u001b[32mUri\u001b[39m = ammonite.$sess.cmd6$Helper$$Lambda$2983/0x0000000840d00040@7332d6df\n",
       "\u001b[36maverageSalary\u001b[39m: \u001b[32mTripleItem\u001b[39m.\u001b[32mUri\u001b[39m = \u001b[33mLongUri\u001b[39m(\n",
       "  \u001b[32m\"http://data.czso.cz/ontology/prumernaMzda\"\u001b[39m\n",
       ")\n",
       "\u001b[36mmedianSalary\u001b[39m: \u001b[32mTripleItem\u001b[39m.\u001b[32mUri\u001b[39m = \u001b[33mLongUri\u001b[39m(\n",
       "  \u001b[32m\"http://data.czso.cz/ontology/medianMzdy\"\u001b[39m\n",
       ")\n",
       "\u001b[36mmeasureUris\u001b[39m: \u001b[32mArray\u001b[39m[\u001b[32mTripleItem\u001b[39m.\u001b[32mUri\u001b[39m] = \u001b[33mArray\u001b[39m(\n",
       "  \u001b[33mLongUri\u001b[39m(\u001b[32m\"http://data.czso.cz/ontology/prumernaMzda\"\u001b[39m),\n",
       "  \u001b[33mLongUri\u001b[39m(\u001b[32m\"http://data.czso.cz/ontology/medianMzdy\"\u001b[39m)\n",
       ")"
      ]
     },
     "execution_count": 7,
     "metadata": {},
     "output_type": "execute_result"
    }
   ],
   "source": [
    "val uri = (value: String) => TripleItem.Uri(value)\n",
    "val averageSalary = uri(\"http://data.czso.cz/ontology/prumernaMzda\")\n",
    "val medianSalary = uri(\"http://data.czso.cz/ontology/medianMzdy\")\n",
    "val measureUris = Array(averageSalary,medianSalary)"
   ]
  },
  {
   "cell_type": "code",
   "execution_count": 8,
   "id": "severe-wallpaper",
   "metadata": {},
   "outputs": [
    {
     "data": {
      "text/plain": [
       "\u001b[36mequiFrequent\u001b[39m: \u001b[32mInt\u001b[39m => \u001b[32mDiscretizationTask\u001b[39m.\u001b[32mEquifrequency\u001b[39m = ammonite.$sess.cmd7$Helper$$Lambda$3023/0x0000000840d18840@543620a9\n",
       "\u001b[36mdiscretizeEquifrequent\u001b[39m: (\u001b[32mGraph\u001b[39m, \u001b[32mInt\u001b[39m, \u001b[32mTripleItem\u001b[39m.\u001b[32mUri\u001b[39m) => \u001b[32mGraph\u001b[39m = ammonite.$sess.cmd7$Helper$$Lambda$3024/0x0000000840d19040@46a730e2\n",
       "\u001b[36mdiscretizeEquifrequentAndGetIntervals\u001b[39m: (\u001b[32mGraph\u001b[39m, \u001b[32mInt\u001b[39m, \u001b[32mTripleItem\u001b[39m.\u001b[32mUri\u001b[39m) => \u001b[32mIndexedSeq\u001b[39m[\u001b[32mInterval\u001b[39m] = ammonite.$sess.cmd7$Helper$$Lambda$3025/0x0000000840d19440@a0531b2"
      ]
     },
     "execution_count": 8,
     "metadata": {},
     "output_type": "execute_result"
    }
   ],
   "source": [
    "val equiFrequent = (intervalCount: Int) => DiscretizationTask.Equifrequency(intervalCount)\n",
    "\n",
    "val discretizeEquifrequent = (graph: Graph, intervalsCount: Int, measure: TripleItem.Uri) => {\n",
    "    graph.filter(t => t.predicate == measure)\n",
    "         .discretize(equiFrequent(intervalsCount))(quad => quad.triple.predicate == measure)\n",
    "}\n",
    "\n",
    "val discretizeEquifrequentAndGetIntervals = (graph: Graph, intervalsCount: Int, measure: TripleItem.Uri) => {\n",
    "    graph.filter(t => t.predicate == measure)\n",
    "         .discretizeAndGetIntervals(equiFrequent(intervalsCount))(quad => quad.triple.predicate == measure)\n",
    "}"
   ]
  },
  {
   "cell_type": "code",
   "execution_count": 9,
   "id": "extreme-shore",
   "metadata": {},
   "outputs": [
    {
     "data": {
      "text/plain": [
       "\u001b[32mimport \u001b[39m\u001b[36meu.easyminer.discretization.impl.Interval\n",
       "\n",
       "\u001b[39m\n",
       "\u001b[36mqbDataSetUri\u001b[39m: \u001b[32mString\u001b[39m = \u001b[32m\"http://purl.org/linked-data/cube#dataSet\"\u001b[39m\n",
       "\u001b[36mrenameInterval\u001b[39m: (\u001b[32mTriple\u001b[39m, \u001b[32mIndexedSeq\u001b[39m[\u001b[32mInterval\u001b[39m], \u001b[32mString\u001b[39m) => \u001b[32mTriple\u001b[39m = ammonite.$sess.cmd8$Helper$$Lambda$3080/0x0000000840d43840@73faa1cf\n",
       "\u001b[36mdiscretize\u001b[39m: (\u001b[32mGraph\u001b[39m, \u001b[32mString\u001b[39m, \u001b[32mArray\u001b[39m[\u001b[32mInt\u001b[39m]) => \u001b[32mDataset\u001b[39m = ammonite.$sess.cmd8$Helper$$Lambda$3081/0x0000000840d43c40@2556f4e1"
      ]
     },
     "execution_count": 9,
     "metadata": {},
     "output_type": "execute_result"
    }
   ],
   "source": [
    "import eu.easyminer.discretization.impl.Interval\n",
    "\n",
    "val qbDataSetUri = \"http://purl.org/linked-data/cube#dataSet\";\n",
    "\n",
    "val renameInterval = (t: Triple, intervals: IndexedSeq[Interval], suffix: String) => {\n",
    "    var result = t\n",
    "    intervals.foreach(interval => {\n",
    "        val _interval = t.`object`.asInstanceOf[TripleItem.Interval]\n",
    "        if (_interval.interval == interval) {\n",
    "            result = t.copy(`object` = TripleItem.Uri(_interval.toString+\"_\"+suffix+\"_\"+(intervals.indexOf(interval)+1)+\"/\"+intervals.size) )\n",
    "        }\n",
    "    })\n",
    "    result\n",
    "}\n",
    "\n",
    "val discretize = (graph: Graph, name: String, intervalCounts: Array[Int]) => {\n",
    "    var result = Dataset() + \n",
    "    graph.filter(t => !measureUris.contains(t.predicate))\n",
    "    .map(t => if (t.predicate.hasSameUriAs(qbDataSetUri)) t.copy(`object` = uri(name)) else t)\n",
    "    \n",
    "        measureUris.foreach(measure => {\n",
    "            intervalCounts.foreach(intervalCount => {\n",
    "                val intervals = discretizeEquifrequentAndGetIntervals(graph, intervalCount, measure)\n",
    "                val measures = discretizeEquifrequent(graph, intervalCount, measure)\n",
    "                result = result + measures.map(t => {renameInterval(t, intervals, \"ef\"+intervalCount)})\n",
    "            })\n",
    "    })\n",
    "    result\n",
    "}"
   ]
  },
  {
   "cell_type": "code",
   "execution_count": 10,
   "id": "practical-mills",
   "metadata": {},
   "outputs": [
    {
     "data": {
      "text/html": [
       "<div class=\"jp-RenderedText\">\n",
       "<pre><code><span style=\"color: rgb(0, 187, 187)\"><span class=\"ansi-cyan-fg\">intervalCounts</span></span>: <span style=\"color: rgb(0, 187, 0)\"><span class=\"ansi-green-fg\">Array</span></span>[<span style=\"color: rgb(0, 187, 0)\"><span class=\"ansi-green-fg\">Int</span></span>] = <span style=\"color: yellow\"><span class=\"ansi-yellow-fg\">Array</span></span>(<span style=\"color: rgb(0, 187, 0)\"><span class=\"ansi-green-fg\">2</span></span>, <span style=\"color: rgb(0, 187, 0)\"><span class=\"ansi-green-fg\">3</span></span>, <span style=\"color: rgb(0, 187, 0)\"><span class=\"ansi-green-fg\">5</span></span>, <span style=\"color: rgb(0, 187, 0)\"><span class=\"ansi-green-fg\">7</span></span>)\n",
       "<span style=\"color: rgb(0, 187, 187)\"><span class=\"ansi-cyan-fg\">salaries</span></span>: <span style=\"color: rgb(0, 187, 0)\"><span class=\"ansi-green-fg\">Dataset</span></span> = com.github.propi.rdfrules.data.Dataset@7cd7a442</code></pre>\n",
       "</div>"
      ],
      "text/plain": [
       "\u001b[36mintervalCounts\u001b[39m: \u001b[32mArray\u001b[39m[\u001b[32mInt\u001b[39m] = \u001b[33mArray\u001b[39m(\u001b[32m2\u001b[39m, \u001b[32m3\u001b[39m, \u001b[32m5\u001b[39m, \u001b[32m7\u001b[39m)\n",
       "\u001b[36msalaries\u001b[39m: \u001b[32mDataset\u001b[39m = com.github.propi.rdfrules.data.Dataset@7cd7a442"
      ]
     },
     "metadata": {},
     "output_type": "display_data"
    }
   ],
   "source": [
    "val intervalCounts = Array(2, 3, 5, 7)\n",
    "var salaries = Dataset()\n",
    "salariesCubesMap\n",
    ".map(t => discretize(t._2,t._1,intervalCounts))\n",
    ".foreach(d => salaries = salaries + d)"
   ]
  },
  {
   "cell_type": "code",
   "execution_count": 10,
   "id": "compressed-blond",
   "metadata": {},
   "outputs": [],
   "source": [
    "// tady bude nacteni a predstaveni (i dotazy pro extrakci) wikidata dat"
   ]
  },
  {
   "cell_type": "code",
   "execution_count": 10,
   "id": "amateur-accountability",
   "metadata": {},
   "outputs": [],
   "source": [
    "// tady bude zpracování wikidata dat"
   ]
  },
  {
   "cell_type": "code",
   "execution_count": 10,
   "id": "green-certificate",
   "metadata": {},
   "outputs": [],
   "source": [
    "// TODO ukazat dotaz"
   ]
  },
  {
   "cell_type": "code",
   "execution_count": 11,
   "id": "chicken-backing",
   "metadata": {},
   "outputs": [
    {
     "data": {
      "text/plain": [
       "\u001b[36mwikidata\u001b[39m: \u001b[32mGraph\u001b[39m = com.github.propi.rdfrules.data.Graph@401d02a5\n",
       "\u001b[36mres10_1\u001b[39m: \u001b[32mInt\u001b[39m = \u001b[32m23291\u001b[39m"
      ]
     },
     "execution_count": 11,
     "metadata": {},
     "output_type": "execute_result"
    }
   ],
   "source": [
    "val wikidata = Graph(\"wikidata\",\"../data/wikidata/wikidata.ttl\")\n",
    "wikidata.size"
   ]
  },
  {
   "cell_type": "code",
   "execution_count": 11,
   "id": "selected-genesis",
   "metadata": {},
   "outputs": [],
   "source": [
    "// TODO ukazat dotaz"
   ]
  },
  {
   "cell_type": "code",
   "execution_count": 12,
   "id": "engaged-physiology",
   "metadata": {},
   "outputs": [
    {
     "data": {
      "text/plain": [
       "\u001b[36mwikidataChronical\u001b[39m: \u001b[32mGraph\u001b[39m = com.github.propi.rdfrules.data.Graph@14e2f970\n",
       "\u001b[36mres11_1\u001b[39m: \u001b[32mInt\u001b[39m = \u001b[32m2741\u001b[39m"
      ]
     },
     "execution_count": 12,
     "metadata": {},
     "output_type": "execute_result"
    }
   ],
   "source": [
    "val wikidataChronical = Graph(\"wikidata\",\"../data/wikidata/wikidataChronical.ttl\")\n",
    "wikidataChronical.size"
   ]
  },
  {
   "cell_type": "code",
   "execution_count": 13,
   "id": "breathing-apache",
   "metadata": {},
   "outputs": [
    {
     "data": {
      "text/plain": [
       "\u001b[36mstart\u001b[39m: \u001b[32mString\u001b[39m = \u001b[32m\"http://www.wikidata.org/prop/P580\"\u001b[39m\n",
       "\u001b[36mend\u001b[39m: \u001b[32mString\u001b[39m = \u001b[32m\"http://www.wikidata.org/prop/P582\"\u001b[39m\n",
       "\u001b[36mwikidataNoTime\u001b[39m: \u001b[32mGraph\u001b[39m = com.github.propi.rdfrules.data.Graph@f0e2c8d"
      ]
     },
     "execution_count": 13,
     "metadata": {},
     "output_type": "execute_result"
    }
   ],
   "source": [
    "val start = \"http://www.wikidata.org/prop/P580\"\n",
    "val end = \"http://www.wikidata.org/prop/P582\"\n",
    "val wikidataNoTime = wikidata.filter(t => !(t.predicate.hasSameUriAs(start) || t.predicate.hasSameUriAs(end)))"
   ]
  },
  {
   "cell_type": "code",
   "execution_count": 14,
   "id": "apparent-mechanics",
   "metadata": {},
   "outputs": [
    {
     "data": {
      "text/html": [
       "<div class=\"jp-RenderedText\">\n",
       "<pre><code><span style=\"color: rgb(0, 187, 187)\"><span class=\"ansi-cyan-fg\">wikidata</span></span>: <span style=\"color: rgb(0, 187, 0)\"><span class=\"ansi-green-fg\">Dataset</span></span> = com.github.propi.rdfrules.data.Dataset@2f66c3cd\n",
       "<span style=\"color: rgb(0, 187, 187)\"><span class=\"ansi-cyan-fg\">res13_2</span></span>: <span style=\"color: rgb(0, 187, 0)\"><span class=\"ansi-green-fg\">Int</span></span> = <span style=\"color: rgb(0, 187, 0)\"><span class=\"ansi-green-fg\">24410</span></span></code></pre>\n",
       "</div>"
      ],
      "text/plain": [
       "\u001b[36mwikidata\u001b[39m: \u001b[32mDataset\u001b[39m = com.github.propi.rdfrules.data.Dataset@2f66c3cd\n",
       "\u001b[36mres13_2\u001b[39m: \u001b[32mInt\u001b[39m = \u001b[32m24410\u001b[39m"
      ]
     },
     "metadata": {},
     "output_type": "display_data"
    }
   ],
   "source": [
    "var wikidata = Dataset() + wikidataNoTime + wikidataChronical\n",
    "wikidata = wikidata.setPrefixes(Traversable(\n",
    "    Prefix(\"wd\", \"http://www.wikidata.org/entity/\"),\n",
    "    Prefix(\"p\", \"http://www.wikidata.org/prop/\"),\n",
    "    Prefix(\"prfx\", \"http://kizi.vse.cz/novp19/diploma-thesis/\")\n",
    "    )   \n",
    ")\n",
    "wikidata.size"
   ]
  },
  {
   "cell_type": "code",
   "execution_count": 14,
   "id": "southwest-bottom",
   "metadata": {},
   "outputs": [],
   "source": [
    "// tady bude zmergovani dat"
   ]
  },
  {
   "cell_type": "code",
   "execution_count": 15,
   "id": "prescription-canvas",
   "metadata": {},
   "outputs": [
    {
     "data": {
      "text/plain": [
       "\u001b[36mczsoWikidataLinking\u001b[39m: \u001b[32mDataset\u001b[39m = com.github.propi.rdfrules.data.Dataset@6ac62ac9\n",
       "\u001b[36mres14_1\u001b[39m: \u001b[32mInt\u001b[39m = \u001b[32m90\u001b[39m\n",
       "\u001b[36mrefPeriodLinking\u001b[39m: \u001b[32mDataset\u001b[39m = com.github.propi.rdfrules.data.Dataset@1cb1a4e0\n",
       "\u001b[36mres14_3\u001b[39m: \u001b[32mInt\u001b[39m = \u001b[32m84\u001b[39m"
      ]
     },
     "execution_count": 15,
     "metadata": {},
     "output_type": "execute_result"
    }
   ],
   "source": [
    "val czsoWikidataLinking = Dataset(\"../data/linking/czsoWikidataLinking.ttl\")\n",
    "czsoWikidataLinking.size\n",
    "val refPeriodLinking = Dataset(\"../data/linking/refPeriodLinking.ttl\")\n",
    "refPeriodLinking.size"
   ]
  },
  {
   "cell_type": "code",
   "execution_count": 16,
   "id": "wired-inspector",
   "metadata": {},
   "outputs": [
    {
     "data": {
      "text/plain": [
       "\u001b[36mdataset\u001b[39m: \u001b[32mDataset\u001b[39m = com.github.propi.rdfrules.data.Dataset@1d876080\n",
       "\u001b[36mres15_1\u001b[39m: \u001b[32mInt\u001b[39m = \u001b[32m26222\u001b[39m"
      ]
     },
     "execution_count": 16,
     "metadata": {},
     "output_type": "execute_result"
    }
   ],
   "source": [
    "val dataset = salaries + refPeriodLinking + wikidata + czsoWikidataLinking\n",
    "dataset.size"
   ]
  },
  {
   "cell_type": "code",
   "execution_count": 17,
   "id": "inside-liberal",
   "metadata": {},
   "outputs": [
    {
     "data": {
      "text/plain": [
       "\u001b[36mindex\u001b[39m: \u001b[32mIndex\u001b[39m = com.github.propi.rdfrules.index.Index$FromDatasetFullyPreservedIndex@284e85bc"
      ]
     },
     "execution_count": 17,
     "metadata": {},
     "output_type": "execute_result"
    }
   ],
   "source": [
    "val index = dataset.index()"
   ]
  },
  {
   "cell_type": "code",
   "execution_count": 17,
   "id": "diverse-working",
   "metadata": {},
   "outputs": [],
   "source": [
    "/*val appliesTo = uri(\"http://kizi.vse.cz/novp19/diploma-thesis/appliesToRefPeriod\")\n",
    "val wdProperty = (value: Int) => uri(\"http://www.wikidata.org/prop/P\" + value)\n",
    "val qbDataSet = uri(qbDataSetUri)\n",
    "\n",
    "// salariesMeasures\n",
    "val averageSalary = TripleItem.Uri(\"http://data.czso.cz/ontology/prumernaMzda\")\n",
    "val medianSalary = TripleItem.Uri(\"http://data.czso.cz/ontology/medianMzdy\")\n",
    "val oneOfSalariesMeasures = OneOf(averageSalary,medianSalary)\n",
    "\n",
    "// czso dimensions\n",
    "val czsoOntology = \"http://data.czso.cz/ontology/\"\n",
    "val czsoRefPeriod = uri(czsoOntology+\"refPeriod\")\n",
    "val czsoRefArea = uri(czsoOntology+\"refArea\")\n",
    "val czsoSex = uri(czsoOntology+\"sex\")\n",
    "\n",
    "val constantsAtObject = RuleConstraint.ConstantsAtPosition.ConstantsPosition.Object\n",
    "val constantsOnlyAtObject = RuleConstraint.ConstantsAtPosition(constantsAtObject)\n",
    "\n",
    "val salariesTotal = uri(\"salaries-total\")*/"
   ]
  },
  {
   "cell_type": "code",
   "execution_count": 18,
   "id": "existing-chicken",
   "metadata": {},
   "outputs": [
    {
     "data": {
      "text/plain": [
       "\u001b[36mczsoOntology\u001b[39m: \u001b[32mString\u001b[39m = \u001b[32m\"http://data.czso.cz/ontology/\"\u001b[39m\n",
       "\u001b[36mczsoRefArea\u001b[39m: \u001b[32mTripleItem\u001b[39m.\u001b[32mUri\u001b[39m = \u001b[33mLongUri\u001b[39m(\u001b[32m\"http://data.czso.cz/ontology/refArea\"\u001b[39m)\n",
       "\u001b[36mczsoRefPeriod\u001b[39m: \u001b[32mTripleItem\u001b[39m.\u001b[32mUri\u001b[39m = \u001b[33mLongUri\u001b[39m(\n",
       "  \u001b[32m\"http://data.czso.cz/ontology/refPeriod\"\u001b[39m\n",
       ")\n",
       "\u001b[36mwdProperty\u001b[39m: \u001b[32mInt\u001b[39m => \u001b[32mTripleItem\u001b[39m.\u001b[32mUri\u001b[39m = ammonite.$sess.cmd17$Helper$$Lambda$3264/0x0000000840eb8040@129e05c5\n",
       "\u001b[36mappliesTo\u001b[39m: \u001b[32mTripleItem\u001b[39m.\u001b[32mUri\u001b[39m = \u001b[33mLongUri\u001b[39m(\n",
       "  \u001b[32m\"http://kizi.vse.cz/novp19/diploma-thesis/appliesToRefPeriod\"\u001b[39m\n",
       ")\n",
       "\u001b[36maverageSalary\u001b[39m: \u001b[32mTripleItem\u001b[39m.\u001b[32mUri\u001b[39m = \u001b[33mLongUri\u001b[39m(\n",
       "  \u001b[32m\"http://data.czso.cz/ontology/prumernaMzda\"\u001b[39m\n",
       ")\n",
       "\u001b[36mmedianSalary\u001b[39m: \u001b[32mTripleItem\u001b[39m.\u001b[32mUri\u001b[39m = \u001b[33mLongUri\u001b[39m(\n",
       "  \u001b[32m\"http://data.czso.cz/ontology/medianMzdy\"\u001b[39m\n",
       ")\n",
       "\u001b[36moneOfSalariesMeasures\u001b[39m: \u001b[32mAtomPattern\u001b[39m.\u001b[32mAtomItemPattern\u001b[39m.\u001b[32mOneOf\u001b[39m = \u001b[33mOneOf\u001b[39m(\n",
       "  \u001b[33mArrayBuffer\u001b[39m(\n",
       "    \u001b[33mConstant\u001b[39m(\u001b[33mLongUri\u001b[39m(\u001b[32m\"http://data.czso.cz/ontology/prumernaMzda\"\u001b[39m)),\n",
       "    \u001b[33mConstant\u001b[39m(\u001b[33mLongUri\u001b[39m(\u001b[32m\"http://data.czso.cz/ontology/medianMzdy\"\u001b[39m))\n",
       "  )\n",
       ")\n",
       "\u001b[36mqbDataSet\u001b[39m: \u001b[32mTripleItem\u001b[39m.\u001b[32mUri\u001b[39m = \u001b[33mLongUri\u001b[39m(\u001b[32m\"http://purl.org/linked-data/cube#dataSet\"\u001b[39m)\n",
       "\u001b[36msalariesAlignmentPattern\u001b[39m: \u001b[32mRulePattern\u001b[39m = \u001b[33mRulePattern\u001b[39m(\n",
       "  \u001b[33mVector\u001b[39m(\n",
       "    \u001b[33mAtomPattern\u001b[39m(\n",
       "      \u001b[33mVariable\u001b[39m(\u001b[33mVariable\u001b[39m(\u001b[32m3\u001b[39m)),\n",
       "      \u001b[33mConstant\u001b[39m(\u001b[33mLongUri\u001b[39m(\u001b[32m\"http://data.czso.cz/ontology/refArea\"\u001b[39m)),\n",
       "      \u001b[33mVariable\u001b[39m(\u001b[33mVariable\u001b[39m(\u001b[32m6\u001b[39m)),\n",
       "      Any\n",
       "    ),\n",
       "    \u001b[33mAtomPattern\u001b[39m(\n",
       "      \u001b[33mVariable\u001b[39m(\u001b[33mVariable\u001b[39m(\u001b[32m6\u001b[39m)),\n",
       "      \u001b[33mConstant\u001b[39m(\u001b[33mLongUri\u001b[39m(\u001b[32m\"http://www.wikidata.org/prop/P6\"\u001b[39m)),\n",
       "      \u001b[33mVariable\u001b[39m(\u001b[33mVariable\u001b[39m(\u001b[32m5\u001b[39m)),\n",
       "      Any\n",
       "    ),\n",
       "    \u001b[33mAtomPattern\u001b[39m(\n",
       "      \u001b[33mVariable\u001b[39m(\u001b[33mVariable\u001b[39m(\u001b[32m5\u001b[39m)),\n",
       "      \u001b[33mConstant\u001b[39m(\u001b[33mLongUri\u001b[39m(\u001b[32m\"http://www.wikidata.org/prop/P6\"\u001b[39m)),\n",
       "      \u001b[33mVariable\u001b[39m(\u001b[33mVariable\u001b[39m(\u001b[32m4\u001b[39m)),\n",
       "      Any\n",
       "    ),\n",
       "    \u001b[33mAtomPattern\u001b[39m(\n",
       "      \u001b[33mVariable\u001b[39m(\u001b[33mVariable\u001b[39m(\u001b[32m4\u001b[39m)),\n",
       "      \u001b[33mConstant\u001b[39m(\u001b[33mLongUri\u001b[39m(\u001b[32m\"http://www.wikidata.org/prop/P102\"\u001b[39m)),\n",
       "      \u001b[33mVariable\u001b[39m(\u001b[33mVariable\u001b[39m(\u001b[32m1\u001b[39m)),\n",
       "      Any\n",
       "    ),\n",
       "    \u001b[33mAtomPattern\u001b[39m(\n",
       "      \u001b[33mVariable\u001b[39m(\u001b[33mVariable\u001b[39m(\u001b[32m3\u001b[39m)),\n",
       "      \u001b[33mOneOf\u001b[39m(\n",
       "        \u001b[33mArrayBuffer\u001b[39m(\n",
       "          \u001b[33mConstant\u001b[39m(\u001b[33mLongUri\u001b[39m(\u001b[32m\"http://data.czso.cz/ontology/prumernaMzda\"\u001b[39m)),\n",
       "          \u001b[33mConstant\u001b[39m(\u001b[33mLongUri\u001b[39m(\u001b[32m\"http://data.czso.cz/ontology/medianMzdy\"\u001b[39m))\n",
       "        )\n",
       "      ),\n",
       "      AnyConstant,\n",
       "      Any\n",
       "    ),\n",
       "    \u001b[33mAtomPattern\u001b[39m(\n",
       "      \u001b[33mVariable\u001b[39m(\u001b[33mVariable\u001b[39m(\u001b[32m3\u001b[39m)),\n",
       "..."
      ]
     },
     "execution_count": 18,
     "metadata": {},
     "output_type": "execute_result"
    }
   ],
   "source": [
    "val czsoOntology = \"http://data.czso.cz/ontology/\"\n",
    "val czsoRefArea = uri(czsoOntology+\"refArea\")\n",
    "val czsoRefPeriod = uri(czsoOntology+\"refPeriod\")\n",
    "\n",
    "val wdProperty = (value: Int) => uri(\"http://www.wikidata.org/prop/P\" + value)\n",
    "val appliesTo = uri(\"http://kizi.vse.cz/novp19/diploma-thesis/appliesToRefPeriod\")\n",
    "\n",
    "val averageSalary = TripleItem.Uri(\"http://data.czso.cz/ontology/prumernaMzda\")\n",
    "val medianSalary = TripleItem.Uri(\"http://data.czso.cz/ontology/medianMzdy\")\n",
    "val oneOfSalariesMeasures = OneOf(averageSalary,medianSalary)\n",
    "\n",
    "val qbDataSet = uri(qbDataSetUri)\n",
    "\n",
    "// val salariesTotal = uri(\"salaries-total\") // OPRAVDU TO CHCI JENOM Z TOTALU ????\n",
    "\n",
    "\n",
    "val salariesAlignmentPattern: RulePattern = (\n",
    "    AtomPattern(subject = 'd', predicate = czsoRefArea, `object` = 'g') &:\n",
    "    AtomPattern(subject = 'g', predicate = wdProperty(6), `object` = 'f') &:\n",
    "    AtomPattern(subject = 'f', predicate = wdProperty(6), `object` = 'e') &:   \n",
    "    AtomPattern(subject = 'e', predicate = wdProperty(102), `object` = 'b') &:\n",
    "    AtomPattern(subject = 'd', predicate = oneOfSalariesMeasures, `object` = AnyConstant) &:\n",
    "    AtomPattern(subject = 'd', predicate = qbDataSet, `object` = AnyConstant) &:\n",
    "    \n",
    "    AtomPattern(subject = 'd', predicate = czsoRefPeriod, `object` = 'c') &:\n",
    "    AtomPattern(subject = 'b', predicate = appliesTo, `object` = 'c') &:\n",
    "    AtomPattern(subject = 'b', predicate = wdProperty(102), `object` = 'a')\n",
    "    =>:\n",
    "    AtomPattern(subject = 'a', predicate = wdProperty(1387), `object` = AnyConstant)\n",
    ")"
   ]
  },
  {
   "cell_type": "code",
   "execution_count": 20,
   "id": "apparent-colon",
   "metadata": {},
   "outputs": [
    {
     "data": {
      "text/plain": [
       "\u001b[36mconstantsAtObject\u001b[39m: \u001b[32mRuleConstraint\u001b[39m.\u001b[32mConstantsAtPosition\u001b[39m.\u001b[32mConstantsPosition\u001b[39m.\u001b[32mObject\u001b[39m.type = Object\n",
       "\u001b[36mconstantsOnlyAtObject\u001b[39m: \u001b[32mRuleConstraint\u001b[39m.\u001b[32mConstantsAtPosition\u001b[39m = \u001b[33mConstantsAtPosition\u001b[39m(\n",
       "  Object\n",
       ")\n",
       "\u001b[36msalariesAlignmentPatternTask\u001b[39m: \u001b[32mcom\u001b[39m.\u001b[32mgithub\u001b[39m.\u001b[32mpropi\u001b[39m.\u001b[32mrdfrules\u001b[39m.\u001b[32malgorithm\u001b[39m.\u001b[32mRulesMining\u001b[39m = com.github.propi.rdfrules.algorithm.amie.Amie@e5329fa"
      ]
     },
     "execution_count": 20,
     "metadata": {},
     "output_type": "execute_result"
    }
   ],
   "source": [
    "val constantsAtObject = RuleConstraint.ConstantsAtPosition.ConstantsPosition.Object\n",
    "val constantsOnlyAtObject = RuleConstraint.ConstantsAtPosition(constantsAtObject)\n",
    "\n",
    "val salariesAlignmentPatternTask = Amie()\n",
    "    .addThreshold(Threshold.MinSupport(1))\n",
    "    .addThreshold(Threshold.MaxRuleLength(10))\n",
    "    .addThreshold(Threshold.MinHeadSize(0))\n",
    "    .addThreshold(Threshold.Timeout(1))\n",
    "    .addConstraint(constantsOnlyAtObject)\n",
    "    .addPattern(salariesAlignmentPattern)"
   ]
  },
  {
   "cell_type": "code",
   "execution_count": 21,
   "id": "popular-chair",
   "metadata": {},
   "outputs": [
    {
     "name": "stderr",
     "output_type": "stream",
     "text": [
      "2021-10-02 16:31:52:389 +0200 [scala-interpreter-1] INFO com.github.propi.rdfrules.utils.Debugger - Predicates trimming.\n",
      "2021-10-02 16:31:52:416 +0200 [scala-interpreter-1] INFO com.github.propi.rdfrules.utils.Debugger - Subjects indexing.\n",
      "2021-10-02 16:31:52:466 +0200 [scala-interpreter-1] INFO com.github.propi.rdfrules.utils.Debugger - Subjects trimming.\n",
      "2021-10-02 16:31:52:484 +0200 [scala-interpreter-1] INFO com.github.propi.rdfrules.utils.Debugger - Objects indexing.\n",
      "2021-10-02 16:31:52:518 +0200 [scala-interpreter-1] INFO com.github.propi.rdfrules.utils.Debugger - Objects trimming.\n",
      "2021-10-02 16:31:52:561 +0200 [scala-interpreter-1] INFO com.github.propi.rdfrules.utils.Debugger - Amie task settings:\n",
      "MinHeadSize=1,\n",
      "MinHeadCoverage=0.0,\n",
      "MinSupport=1,\n",
      "MaxThreads=4,\n",
      "MinAtomSize=0,\n",
      "MaxRuleLength=10,\n",
      "WithConstants=true,\n",
      "ConstantsPosition=Object,\n",
      "Timeout=60000,\n",
      "WithDuplicitPredicates=true,\n",
      "Patterns=List(Mapped(Vector(Mapped(Variable(?d),Constant(Constant(1481837794)),Variable(?g),Any), Mapped(Variable(?g),Constant(Constant(774364698)),Variable(?f),Any), Mapped(Variable(?f),Constant(Constant(774364698)),Variable(?e),Any), Mapped(Variable(?e),Constant(Constant(52500897)),Variable(?b),Any), Mapped(Variable(?d),OneOf(ArrayBuffer(Constant(Constant(1433642368)), Constant(Constant(1396113393)))),AnyConstant,Any), Mapped(Variable(?d),Constant(Constant(624690160)),AnyConstant,Any), Mapped(Variable(?d),Constant(Constant(-901057765)),Variable(?c),Any), Mapped(Variable(?b),Constant(Constant(217712947)),Variable(?c),Any), Mapped(Variable(?b),Constant(Constant(52500897)),Variable(?a),Any)),Some(Mapped(Variable(?a),Constant(Constant(1496784743)),AnyConstant,Any)),false,false)),\n",
      "OnlyPredicates=None,\n",
      "WithoutPredicates=None\n"
     ]
    },
    {
     "name": "stdout",
     "output_type": "stream",
     "text": [
      "rules: 251\n",
      "duration: 4s\n"
     ]
    },
    {
     "data": {
      "text/plain": [
       "\u001b[36mstartTimeMillis\u001b[39m: \u001b[32mLong\u001b[39m = \u001b[32m1633185111353L\u001b[39m\n",
       "\u001b[36msalariesAlignmentPatternTaskRuleset\u001b[39m: \u001b[32mRuleset\u001b[39m = com.github.propi.rdfrules.ruleset.Ruleset@7ad9fba8\n",
       "\u001b[36mendTimeMillis\u001b[39m: \u001b[32mLong\u001b[39m = \u001b[32m1633185115555L\u001b[39m\n",
       "\u001b[36mdurationSeconds\u001b[39m: \u001b[32mLong\u001b[39m = \u001b[32m4L\u001b[39m"
      ]
     },
     "execution_count": 21,
     "metadata": {},
     "output_type": "execute_result"
    }
   ],
   "source": [
    "val startTimeMillis = System.currentTimeMillis()\n",
    "val salariesAlignmentPatternTaskRuleset = index.mine(salariesAlignmentPatternTask)\n",
    "println(\"rules: \"+salariesAlignmentPatternTaskRuleset.size)\n",
    "val endTimeMillis = System.currentTimeMillis()\n",
    "val durationSeconds = (endTimeMillis - startTimeMillis) / 1000\n",
    "println(\"duration: \" + durationSeconds + \"s\")"
   ]
  },
  {
   "cell_type": "code",
   "execution_count": 22,
   "id": "historic-hypothetical",
   "metadata": {},
   "outputs": [
    {
     "name": "stdout",
     "output_type": "stream",
     "text": [
      "(?d czso:refArea ?g) ^ (?g p:P6 ?f) ^ (?f p:P6 ?e) ^ (?e p:P102 ?b) ^ (?d czso:prumernaMzda <[ 26722.0 ; 27860.0 )_ef5_4/5>) ^ (?d qb:dataSet <salaries-male>) ^ (?d czso:refPeriod ?c) ^ (?b prfx:appliesToRefPeriod ?c) ^ (?b p:P102 ?a) -> (?a p:P1387 \"far-left\") | support: 2, headCoverage: 0.09090909090909091, pcaConfidence: 0.6666666666666666, headSize: 22, pcaBodySize: 3\n",
      "(?d czso:refArea ?g) ^ (?g p:P6 ?f) ^ (?f p:P6 ?e) ^ (?e p:P102 ?b) ^ (?d czso:medianMzdy <[ 18490.0 ; 19395.0 )_ef3_2/3>) ^ (?d qb:dataSet <salaries-female>) ^ (?d czso:refPeriod ?c) ^ (?b prfx:appliesToRefPeriod ?c) ^ (?b p:P102 ?a) -> (?a p:P1387 \"far-left\") | support: 2, headCoverage: 0.09090909090909091, pcaConfidence: 0.6666666666666666, headSize: 22, pcaBodySize: 3\n",
      "(?d czso:refArea ?g) ^ (?g p:P6 ?f) ^ (?f p:P6 ?e) ^ (?e p:P102 ?b) ^ (?d czso:prumernaMzda <[ 26024.5 ; 27293.0 )_ef3_2/3>) ^ (?d qb:dataSet <salaries-male>) ^ (?d czso:refPeriod ?c) ^ (?b prfx:appliesToRefPeriod ?c) ^ (?b p:P102 ?a) -> (?a p:P1387 \"far-left\") | support: 2, headCoverage: 0.09090909090909091, pcaConfidence: 0.6666666666666666, headSize: 22, pcaBodySize: 3\n",
      "(?d czso:refArea ?g) ^ (?g p:P6 ?f) ^ (?f p:P6 ?e) ^ (?e p:P102 ?b) ^ (?d czso:medianMzdy <[ 18232.5 ; 18843.5 )_ef7_3/7>) ^ (?d qb:dataSet <salaries-female>) ^ (?d czso:refPeriod ?c) ^ (?b prfx:appliesToRefPeriod ?c) ^ (?b p:P102 ?a) -> (?a p:P1387 \"far-left\") | support: 2, headCoverage: 0.09090909090909091, pcaConfidence: 0.6666666666666666, headSize: 22, pcaBodySize: 3\n",
      "(?d czso:refArea ?g) ^ (?g p:P6 ?f) ^ (?f p:P6 ?e) ^ (?e p:P102 ?b) ^ (?d czso:medianMzdy <[ 18843.5 ; 19149.5 )_ef7_4/7>) ^ (?d qb:dataSet <salaries-female>) ^ (?d czso:refPeriod ?c) ^ (?b prfx:appliesToRefPeriod ?c) ^ (?b p:P102 ?a) -> (?a p:P1387 \"far-left\") | support: 2, headCoverage: 0.09090909090909091, pcaConfidence: 0.6666666666666666, headSize: 22, pcaBodySize: 3\n"
     ]
    }
   ],
   "source": [
    "salariesAlignmentPatternTaskRuleset\n",
    ".filter(rule => rule.measures(Measure.Support).value > 1)\n",
    ".computePcaConfidence(0.0)\n",
    ".sortBy(Measure.PcaConfidence, Measure.Support)\n",
    ".slice(0,5)\n",
    ".foreach(println)\n",
    "//.export(\"../rulesets/salariesAlignmentPatternTaskRulesetFiltered.txt\")"
   ]
  },
  {
   "cell_type": "code",
   "execution_count": 23,
   "id": "republican-found",
   "metadata": {},
   "outputs": [
    {
     "data": {
      "text/plain": [
       "\u001b[36msalariesPartyPattern\u001b[39m: \u001b[32mRulePattern\u001b[39m = \u001b[33mRulePattern\u001b[39m(\n",
       "  \u001b[33mVector\u001b[39m(\n",
       "    \u001b[33mAtomPattern\u001b[39m(\n",
       "      \u001b[33mVariable\u001b[39m(\u001b[33mVariable\u001b[39m(\u001b[32m2\u001b[39m)),\n",
       "      \u001b[33mConstant\u001b[39m(\u001b[33mLongUri\u001b[39m(\u001b[32m\"http://data.czso.cz/ontology/refArea\"\u001b[39m)),\n",
       "      \u001b[33mVariable\u001b[39m(\u001b[33mVariable\u001b[39m(\u001b[32m5\u001b[39m)),\n",
       "      Any\n",
       "    ),\n",
       "    \u001b[33mAtomPattern\u001b[39m(\n",
       "      \u001b[33mVariable\u001b[39m(\u001b[33mVariable\u001b[39m(\u001b[32m5\u001b[39m)),\n",
       "      \u001b[33mConstant\u001b[39m(\u001b[33mLongUri\u001b[39m(\u001b[32m\"http://www.wikidata.org/prop/P6\"\u001b[39m)),\n",
       "      \u001b[33mVariable\u001b[39m(\u001b[33mVariable\u001b[39m(\u001b[32m4\u001b[39m)),\n",
       "      Any\n",
       "    ),\n",
       "    \u001b[33mAtomPattern\u001b[39m(\n",
       "      \u001b[33mVariable\u001b[39m(\u001b[33mVariable\u001b[39m(\u001b[32m4\u001b[39m)),\n",
       "      \u001b[33mConstant\u001b[39m(\u001b[33mLongUri\u001b[39m(\u001b[32m\"http://www.wikidata.org/prop/P6\"\u001b[39m)),\n",
       "      \u001b[33mVariable\u001b[39m(\u001b[33mVariable\u001b[39m(\u001b[32m3\u001b[39m)),\n",
       "      Any\n",
       "    ),\n",
       "    \u001b[33mAtomPattern\u001b[39m(\n",
       "      \u001b[33mVariable\u001b[39m(\u001b[33mVariable\u001b[39m(\u001b[32m3\u001b[39m)),\n",
       "      \u001b[33mConstant\u001b[39m(\u001b[33mLongUri\u001b[39m(\u001b[32m\"http://www.wikidata.org/prop/P102\"\u001b[39m)),\n",
       "      \u001b[33mVariable\u001b[39m(\u001b[33mVariable\u001b[39m(\u001b[32m0\u001b[39m)),\n",
       "      Any\n",
       "    ),\n",
       "    \u001b[33mAtomPattern\u001b[39m(\n",
       "      \u001b[33mVariable\u001b[39m(\u001b[33mVariable\u001b[39m(\u001b[32m2\u001b[39m)),\n",
       "      \u001b[33mOneOf\u001b[39m(\n",
       "        \u001b[33mArrayBuffer\u001b[39m(\n",
       "          \u001b[33mConstant\u001b[39m(\u001b[33mLongUri\u001b[39m(\u001b[32m\"http://data.czso.cz/ontology/prumernaMzda\"\u001b[39m)),\n",
       "          \u001b[33mConstant\u001b[39m(\u001b[33mLongUri\u001b[39m(\u001b[32m\"http://data.czso.cz/ontology/medianMzdy\"\u001b[39m))\n",
       "        )\n",
       "      ),\n",
       "      AnyConstant,\n",
       "      Any\n",
       "    ),\n",
       "    \u001b[33mAtomPattern\u001b[39m(\n",
       "      \u001b[33mVariable\u001b[39m(\u001b[33mVariable\u001b[39m(\u001b[32m2\u001b[39m)),\n",
       "..."
      ]
     },
     "execution_count": 23,
     "metadata": {},
     "output_type": "execute_result"
    }
   ],
   "source": [
    "val salariesPartyPattern: RulePattern = (\n",
    "    AtomPattern(subject = 'c', predicate = czsoRefArea, `object` = 'f') &:\n",
    "    AtomPattern(subject = 'f', predicate = wdProperty(6), `object` = 'e') &:\n",
    "    AtomPattern(subject = 'e', predicate = wdProperty(6), `object` = 'd') &:   \n",
    "    AtomPattern(subject = 'd', predicate = wdProperty(102), `object` = 'a') &:\n",
    "    AtomPattern(subject = 'c', predicate = oneOfSalariesMeasures, `object` = AnyConstant) &:\n",
    "    AtomPattern(subject = 'c', predicate = qbDataSet, `object` = AnyConstant) &:\n",
    "    AtomPattern(subject = 'c', predicate = czsoRefPeriod, `object` = 'b') &:\n",
    "    AtomPattern(subject = 'a', predicate = appliesTo, `object` = 'b')\n",
    "    =>:\n",
    "    AtomPattern(subject = 'a', predicate = wdProperty(102), `object` = AnyConstant)\n",
    ")"
   ]
  },
  {
   "cell_type": "code",
   "execution_count": 24,
   "id": "fuzzy-traffic",
   "metadata": {},
   "outputs": [
    {
     "data": {
      "text/plain": [
       "\u001b[36msalariesPartyPatternTask\u001b[39m: \u001b[32mcom\u001b[39m.\u001b[32mgithub\u001b[39m.\u001b[32mpropi\u001b[39m.\u001b[32mrdfrules\u001b[39m.\u001b[32malgorithm\u001b[39m.\u001b[32mRulesMining\u001b[39m = com.github.propi.rdfrules.algorithm.amie.Amie@241d965a"
      ]
     },
     "execution_count": 24,
     "metadata": {},
     "output_type": "execute_result"
    }
   ],
   "source": [
    "val salariesPartyPatternTask = Amie()\n",
    "    .addThreshold(Threshold.MinSupport(1))\n",
    "    .addThreshold(Threshold.MaxRuleLength(9))\n",
    "    .addThreshold(Threshold.MinHeadSize(0))\n",
    "    .addThreshold(Threshold.Timeout(1))\n",
    "    .addConstraint(constantsOnlyAtObject)\n",
    "    .addPattern(salariesPartyPattern)"
   ]
  },
  {
   "cell_type": "code",
   "execution_count": 25,
   "id": "beginning-murray",
   "metadata": {},
   "outputs": [
    {
     "name": "stderr",
     "output_type": "stream",
     "text": [
      "2021-10-02 16:32:13:027 +0200 [scala-interpreter-1] INFO com.github.propi.rdfrules.utils.Debugger - Amie task settings:\n",
      "MinHeadSize=1,\n",
      "MinHeadCoverage=0.0,\n",
      "MinSupport=1,\n",
      "MaxThreads=4,\n",
      "MinAtomSize=0,\n",
      "MaxRuleLength=9,\n",
      "WithConstants=true,\n",
      "ConstantsPosition=Object,\n",
      "Timeout=60000,\n",
      "WithDuplicitPredicates=true,\n",
      "Patterns=List(Mapped(Vector(Mapped(Variable(?c),Constant(Constant(1481837794)),Variable(?f),Any), Mapped(Variable(?f),Constant(Constant(774364698)),Variable(?e),Any), Mapped(Variable(?e),Constant(Constant(774364698)),Variable(?d),Any), Mapped(Variable(?d),Constant(Constant(52500897)),Variable(?a),Any), Mapped(Variable(?c),OneOf(ArrayBuffer(Constant(Constant(1433642368)), Constant(Constant(1396113393)))),AnyConstant,Any), Mapped(Variable(?c),Constant(Constant(624690160)),AnyConstant,Any), Mapped(Variable(?c),Constant(Constant(-901057765)),Variable(?b),Any), Mapped(Variable(?a),Constant(Constant(217712947)),Variable(?b),Any)),Some(Mapped(Variable(?a),Constant(Constant(52500897)),AnyConstant,Any)),false,false)),\n",
      "OnlyPredicates=None,\n",
      "WithoutPredicates=None\n"
     ]
    },
    {
     "name": "stdout",
     "output_type": "stream",
     "text": [
      "rules: 296\n",
      "duration: 0s\n"
     ]
    },
    {
     "data": {
      "text/plain": [
       "\u001b[36mstartTimeMillis\u001b[39m: \u001b[32mLong\u001b[39m = \u001b[32m1633185133026L\u001b[39m\n",
       "\u001b[36msalariesPartyPatternTaskRuleset\u001b[39m: \u001b[32mRuleset\u001b[39m = com.github.propi.rdfrules.ruleset.Ruleset@5a727d32\n",
       "\u001b[36mendTimeMillis\u001b[39m: \u001b[32mLong\u001b[39m = \u001b[32m1633185133709L\u001b[39m\n",
       "\u001b[36mdurationSeconds\u001b[39m: \u001b[32mLong\u001b[39m = \u001b[32m0L\u001b[39m"
      ]
     },
     "execution_count": 25,
     "metadata": {},
     "output_type": "execute_result"
    }
   ],
   "source": [
    "val startTimeMillis = System.currentTimeMillis()\n",
    "val salariesPartyPatternTaskRuleset = index.mine(salariesPartyPatternTask)\n",
    "println(\"rules: \"+salariesPartyPatternTaskRuleset.size)\n",
    "val endTimeMillis = System.currentTimeMillis()\n",
    "val durationSeconds = (endTimeMillis - startTimeMillis) / 1000\n",
    "println(\"duration: \" + durationSeconds + \"s\")"
   ]
  },
  {
   "cell_type": "code",
   "execution_count": 26,
   "id": "neutral-grocery",
   "metadata": {},
   "outputs": [
    {
     "name": "stdout",
     "output_type": "stream",
     "text": [
      "(?c czso:refArea ?f) ^ (?f p:P6 ?e) ^ (?e p:P6 ?d) ^ (?d p:P102 ?a) ^ (?c czso:prumernaMzda <[ 23799.0 ; 25121.5 )_ef7_1/7>) ^ (?c qb:dataSet <salaries-male>) ^ (?c czso:refPeriod ?b) ^ (?a prfx:appliesToRefPeriod ?b) -> (?a p:P102 wd:Q341148) | support: 4, headCoverage: 0.00641025641025641, pcaConfidence: 1.0, headSize: 624, pcaBodySize: 4\n",
      "(?c czso:refArea ?f) ^ (?f p:P6 ?e) ^ (?e p:P6 ?d) ^ (?d p:P102 ?a) ^ (?c czso:medianMzdy <[ 21182.0 ; 22242.5 )_ef7_1/7>) ^ (?c qb:dataSet <salaries-male>) ^ (?c czso:refPeriod ?b) ^ (?a prfx:appliesToRefPeriod ?b) -> (?a p:P102 wd:Q341148) | support: 5, headCoverage: 0.008012820512820512, pcaConfidence: 0.8333333333333334, headSize: 624, pcaBodySize: 6\n",
      "(?c czso:refArea ?f) ^ (?f p:P6 ?e) ^ (?e p:P6 ?d) ^ (?d p:P102 ?a) ^ (?c czso:prumernaMzda <[ 21723.0 ; 22859.0 )_ef7_1/7>) ^ (?c qb:dataSet <salaries-total>) ^ (?c czso:refPeriod ?b) ^ (?a prfx:appliesToRefPeriod ?b) -> (?a p:P102 wd:Q341148) | support: 4, headCoverage: 0.00641025641025641, pcaConfidence: 0.8, headSize: 624, pcaBodySize: 5\n"
     ]
    }
   ],
   "source": [
    "salariesPartyPatternTaskRuleset\n",
    ".filter(rule => rule.measures(Measure.Support).value > 1)\n",
    ".computePcaConfidence(0.0)\n",
    ".sortBy(Measure.PcaConfidence, Measure.Support)\n",
    "//.export(\"../rulesets/salariesPartyPatternTaskRulesetFiltered.txt\")\n",
    ".slice(0,3)\n",
    ".foreach(println)"
   ]
  },
  {
   "cell_type": "code",
   "execution_count": 27,
   "id": "better-wiring",
   "metadata": {},
   "outputs": [
    {
     "data": {
      "text/plain": [
       "\u001b[36malignmentSalariesPattern\u001b[39m: \u001b[32mRulePattern\u001b[39m = \u001b[33mRulePattern\u001b[39m(\n",
       "  \u001b[33mVector\u001b[39m(\n",
       "    \u001b[33mAtomPattern\u001b[39m(\n",
       "      \u001b[33mVariable\u001b[39m(\u001b[33mVariable\u001b[39m(\u001b[32m0\u001b[39m)),\n",
       "      \u001b[33mConstant\u001b[39m(\u001b[33mLongUri\u001b[39m(\u001b[32m\"http://data.czso.cz/ontology/refArea\"\u001b[39m)),\n",
       "      \u001b[33mVariable\u001b[39m(\u001b[33mVariable\u001b[39m(\u001b[32m6\u001b[39m)),\n",
       "      Any\n",
       "    ),\n",
       "    \u001b[33mAtomPattern\u001b[39m(\n",
       "      \u001b[33mVariable\u001b[39m(\u001b[33mVariable\u001b[39m(\u001b[32m6\u001b[39m)),\n",
       "      \u001b[33mConstant\u001b[39m(\u001b[33mLongUri\u001b[39m(\u001b[32m\"http://www.wikidata.org/prop/P6\"\u001b[39m)),\n",
       "      \u001b[33mVariable\u001b[39m(\u001b[33mVariable\u001b[39m(\u001b[32m5\u001b[39m)),\n",
       "      Any\n",
       "    ),\n",
       "    \u001b[33mAtomPattern\u001b[39m(\n",
       "      \u001b[33mVariable\u001b[39m(\u001b[33mVariable\u001b[39m(\u001b[32m5\u001b[39m)),\n",
       "      \u001b[33mConstant\u001b[39m(\u001b[33mLongUri\u001b[39m(\u001b[32m\"http://www.wikidata.org/prop/P6\"\u001b[39m)),\n",
       "      \u001b[33mVariable\u001b[39m(\u001b[33mVariable\u001b[39m(\u001b[32m4\u001b[39m)),\n",
       "      Any\n",
       "    ),\n",
       "    \u001b[33mAtomPattern\u001b[39m(\n",
       "      \u001b[33mVariable\u001b[39m(\u001b[33mVariable\u001b[39m(\u001b[32m4\u001b[39m)),\n",
       "      \u001b[33mConstant\u001b[39m(\u001b[33mLongUri\u001b[39m(\u001b[32m\"http://www.wikidata.org/prop/P102\"\u001b[39m)),\n",
       "      \u001b[33mVariable\u001b[39m(\u001b[33mVariable\u001b[39m(\u001b[32m2\u001b[39m)),\n",
       "      Any\n",
       "    ),\n",
       "    \u001b[33mAtomPattern\u001b[39m(\n",
       "      \u001b[33mVariable\u001b[39m(\u001b[33mVariable\u001b[39m(\u001b[32m3\u001b[39m)),\n",
       "      \u001b[33mConstant\u001b[39m(\u001b[33mLongUri\u001b[39m(\u001b[32m\"http://www.wikidata.org/prop/P1387\"\u001b[39m)),\n",
       "      Any,\n",
       "      Any\n",
       "    ),\n",
       "    \u001b[33mAtomPattern\u001b[39m(\n",
       "      \u001b[33mVariable\u001b[39m(\u001b[33mVariable\u001b[39m(\u001b[32m2\u001b[39m)),\n",
       "      \u001b[33mConstant\u001b[39m(\u001b[33mLongUri\u001b[39m(\u001b[32m\"http://www.wikidata.org/prop/P102\"\u001b[39m)),\n",
       "      \u001b[33mVariable\u001b[39m(\u001b[33mVariable\u001b[39m(\u001b[32m3\u001b[39m)),\n",
       "      Any\n",
       "    ),\n",
       "    \u001b[33mAtomPattern\u001b[39m(\n",
       "..."
      ]
     },
     "execution_count": 27,
     "metadata": {},
     "output_type": "execute_result"
    }
   ],
   "source": [
    "val alignmentSalariesPattern: RulePattern = (\n",
    "    AtomPattern(subject = 'a', predicate = czsoRefArea, `object` = 'g') &:\n",
    "    AtomPattern(subject = 'g', predicate = wdProperty(6), `object` = 'f') &:\n",
    "    AtomPattern(subject = 'f', predicate = wdProperty(6), `object` = 'e') &:\n",
    "    AtomPattern(subject = 'e', predicate = wdProperty(102), `object` = 'c') &:  \n",
    "    AtomPattern(subject = 'd', predicate = wdProperty(1387)) &:\n",
    "    AtomPattern(subject = 'c', predicate = wdProperty(102), `object` = 'd') &:\n",
    "    AtomPattern(subject = 'c', predicate = appliesTo, `object` = 'b') &:\n",
    "    AtomPattern(subject = 'a', predicate = czsoRefPeriod, `object` = 'b') &:\n",
    "    AtomPattern(subject = 'a', predicate = qbDataSet, `object` = AnyConstant)\n",
    "    =>:\n",
    "    AtomPattern(subject = 'a', predicate = oneOfSalariesMeasures)\n",
    ")"
   ]
  },
  {
   "cell_type": "code",
   "execution_count": 29,
   "id": "assisted-schedule",
   "metadata": {},
   "outputs": [
    {
     "data": {
      "text/plain": [
       "\u001b[36malignmentSalariesPatternTask\u001b[39m: \u001b[32mcom\u001b[39m.\u001b[32mgithub\u001b[39m.\u001b[32mpropi\u001b[39m.\u001b[32mrdfrules\u001b[39m.\u001b[32malgorithm\u001b[39m.\u001b[32mRulesMining\u001b[39m = com.github.propi.rdfrules.algorithm.amie.Amie@206c0b45"
      ]
     },
     "execution_count": 29,
     "metadata": {},
     "output_type": "execute_result"
    }
   ],
   "source": [
    "val alignmentSalariesPatternTask = Amie()\n",
    "    .addThreshold(Threshold.MinSupport(1))\n",
    "    .addThreshold(Threshold.MaxRuleLength(10))\n",
    "    .addThreshold(Threshold.MinHeadSize(0))\n",
    "    .addThreshold(Threshold.Timeout(1))\n",
    "    .addConstraint(constantsOnlyAtObject)\n",
    "    .addPattern(alignmentSalariesPattern)"
   ]
  },
  {
   "cell_type": "code",
   "execution_count": 30,
   "id": "naughty-trinity",
   "metadata": {},
   "outputs": [
    {
     "name": "stderr",
     "output_type": "stream",
     "text": [
      "2021-10-02 16:32:34:483 +0200 [scala-interpreter-1] INFO com.github.propi.rdfrules.utils.Debugger - Amie task settings:\n",
      "MinHeadSize=1,\n",
      "MinHeadCoverage=0.0,\n",
      "MinSupport=1,\n",
      "MaxThreads=4,\n",
      "MinAtomSize=0,\n",
      "MaxRuleLength=10,\n",
      "WithConstants=true,\n",
      "ConstantsPosition=Object,\n",
      "Timeout=60000,\n",
      "WithDuplicitPredicates=true,\n",
      "Patterns=List(Mapped(Vector(Mapped(Variable(?a),Constant(Constant(1481837794)),Variable(?g),Any), Mapped(Variable(?g),Constant(Constant(774364698)),Variable(?f),Any), Mapped(Variable(?f),Constant(Constant(774364698)),Variable(?e),Any), Mapped(Variable(?e),Constant(Constant(52500897)),Variable(?c),Any), Mapped(Variable(?d),Constant(Constant(1496784743)),Any,Any), Mapped(Variable(?c),Constant(Constant(52500897)),Variable(?d),Any), Mapped(Variable(?c),Constant(Constant(217712947)),Variable(?b),Any), Mapped(Variable(?a),Constant(Constant(-901057765)),Variable(?b),Any), Mapped(Variable(?a),Constant(Constant(624690160)),AnyConstant,Any)),Some(Mapped(Variable(?a),OneOf(ArrayBuffer(Constant(Constant(1433642368)), Constant(Constant(1396113393)))),Any,Any)),false,false)),\n",
      "OnlyPredicates=None,\n",
      "WithoutPredicates=None\n"
     ]
    },
    {
     "name": "stdout",
     "output_type": "stream",
     "text": [
      "rules: 251\n",
      "duration: 2s\n"
     ]
    },
    {
     "data": {
      "text/plain": [
       "\u001b[36mstartTimeMillis\u001b[39m: \u001b[32mLong\u001b[39m = \u001b[32m1633185154482L\u001b[39m\n",
       "\u001b[36malignmentSalariesPatternTaskRuleset\u001b[39m: \u001b[32mRuleset\u001b[39m = com.github.propi.rdfrules.ruleset.Ruleset@1635b0c7\n",
       "\u001b[36mendTimeMillis\u001b[39m: \u001b[32mLong\u001b[39m = \u001b[32m1633185156684L\u001b[39m\n",
       "\u001b[36mdurationSeconds\u001b[39m: \u001b[32mLong\u001b[39m = \u001b[32m2L\u001b[39m"
      ]
     },
     "execution_count": 30,
     "metadata": {},
     "output_type": "execute_result"
    }
   ],
   "source": [
    "val startTimeMillis = System.currentTimeMillis()\n",
    "val alignmentSalariesPatternTaskRuleset = index.mine(alignmentSalariesPatternTask)\n",
    "println(\"rules: \"+alignmentSalariesPatternTaskRuleset.size)\n",
    "val endTimeMillis = System.currentTimeMillis()\n",
    "val durationSeconds = (endTimeMillis - startTimeMillis) / 1000\n",
    "println(\"duration: \" + durationSeconds + \"s\")"
   ]
  },
  {
   "cell_type": "code",
   "execution_count": 31,
   "id": "secure-adult",
   "metadata": {},
   "outputs": [
    {
     "name": "stdout",
     "output_type": "stream",
     "text": [
      "(?a czso:refArea ?g) ^ (?g p:P6 ?f) ^ (?f p:P6 ?e) ^ (?e p:P102 ?c) ^ (?d p:P1387 \"right-wing\") ^ (?c p:P102 ?d) ^ (?c prfx:appliesToRefPeriod ?b) ^ (?a czso:refPeriod ?b) ^ (?a qb:dataSet <salaries-male>) -> (?a czso:medianMzdy <[ 24433.5 ; 31063.0 ]_ef7_7/7>) | support: 3, headCoverage: 0.005952380952380952, pcaConfidence: 1.0, headSize: 504, pcaBodySize: 3\n",
      "(?a czso:refArea ?g) ^ (?g p:P6 ?f) ^ (?f p:P6 ?e) ^ (?e p:P102 ?c) ^ (?d p:P1387 \"right-wing\") ^ (?c p:P102 ?d) ^ (?c prfx:appliesToRefPeriod ?b) ^ (?a czso:refPeriod ?b) ^ (?a qb:dataSet <salaries-total>) -> (?a czso:medianMzdy <[ 21625.0 ; 28392.0 ]_ef3_3/3>) | support: 3, headCoverage: 0.005952380952380952, pcaConfidence: 1.0, headSize: 504, pcaBodySize: 3\n",
      "(?a czso:refArea ?g) ^ (?g p:P6 ?f) ^ (?f p:P6 ?e) ^ (?e p:P102 ?c) ^ (?d p:P1387 \"right-wing\") ^ (?c p:P102 ?d) ^ (?c prfx:appliesToRefPeriod ?b) ^ (?a czso:refPeriod ?b) ^ (?a qb:dataSet <salaries-total>) -> (?a czso:medianMzdy <[ 21214.0 ; 28392.0 ]_ef2_2/2>) | support: 3, headCoverage: 0.005952380952380952, pcaConfidence: 1.0, headSize: 504, pcaBodySize: 3\n",
      "(?a czso:refArea ?g) ^ (?g p:P6 ?f) ^ (?f p:P6 ?e) ^ (?e p:P102 ?c) ^ (?d p:P1387 \"right-wing\") ^ (?c p:P102 ?d) ^ (?c prfx:appliesToRefPeriod ?b) ^ (?a czso:refPeriod ?b) ^ (?a qb:dataSet <salaries-male>) -> (?a czso:prumernaMzda <[ 27860.0 ; 41209.0 ]_ef5_5/5>) | support: 3, headCoverage: 0.005952380952380952, pcaConfidence: 1.0, headSize: 504, pcaBodySize: 3\n"
     ]
    }
   ],
   "source": [
    "alignmentSalariesPatternTaskRuleset\n",
    ".filter(rule => rule.measures(Measure.Support).value > 1)\n",
    ".computePcaConfidence(0.0)\n",
    ".sortBy(Measure.PcaConfidence, Measure.Support)\n",
    ".slice(0,4)\n",
    ".foreach(println)\n",
    "//.export(\"../rulesets/alignmentSalariesPatternTaskRulesetFiltered.txt\")"
   ]
  },
  {
   "cell_type": "code",
   "execution_count": 32,
   "id": "driving-wings",
   "metadata": {},
   "outputs": [
    {
     "data": {
      "text/plain": [
       "\u001b[36mpartySalariesPattern\u001b[39m: \u001b[32mRulePattern\u001b[39m = \u001b[33mRulePattern\u001b[39m(\n",
       "  \u001b[33mVector\u001b[39m(\n",
       "    \u001b[33mAtomPattern\u001b[39m(\n",
       "      \u001b[33mVariable\u001b[39m(\u001b[33mVariable\u001b[39m(\u001b[32m0\u001b[39m)),\n",
       "      \u001b[33mConstant\u001b[39m(\u001b[33mLongUri\u001b[39m(\u001b[32m\"http://data.czso.cz/ontology/refArea\"\u001b[39m)),\n",
       "      \u001b[33mVariable\u001b[39m(\u001b[33mVariable\u001b[39m(\u001b[32m5\u001b[39m)),\n",
       "      Any\n",
       "    ),\n",
       "    \u001b[33mAtomPattern\u001b[39m(\n",
       "      \u001b[33mVariable\u001b[39m(\u001b[33mVariable\u001b[39m(\u001b[32m5\u001b[39m)),\n",
       "      \u001b[33mConstant\u001b[39m(\u001b[33mLongUri\u001b[39m(\u001b[32m\"http://www.wikidata.org/prop/P6\"\u001b[39m)),\n",
       "      \u001b[33mVariable\u001b[39m(\u001b[33mVariable\u001b[39m(\u001b[32m4\u001b[39m)),\n",
       "      Any\n",
       "    ),\n",
       "    \u001b[33mAtomPattern\u001b[39m(\n",
       "      \u001b[33mVariable\u001b[39m(\u001b[33mVariable\u001b[39m(\u001b[32m4\u001b[39m)),\n",
       "      \u001b[33mConstant\u001b[39m(\u001b[33mLongUri\u001b[39m(\u001b[32m\"http://www.wikidata.org/prop/P6\"\u001b[39m)),\n",
       "      \u001b[33mVariable\u001b[39m(\u001b[33mVariable\u001b[39m(\u001b[32m3\u001b[39m)),\n",
       "      Any\n",
       "    ),\n",
       "    \u001b[33mAtomPattern\u001b[39m(\n",
       "      \u001b[33mVariable\u001b[39m(\u001b[33mVariable\u001b[39m(\u001b[32m3\u001b[39m)),\n",
       "      \u001b[33mConstant\u001b[39m(\u001b[33mLongUri\u001b[39m(\u001b[32m\"http://www.wikidata.org/prop/P102\"\u001b[39m)),\n",
       "      \u001b[33mVariable\u001b[39m(\u001b[33mVariable\u001b[39m(\u001b[32m2\u001b[39m)),\n",
       "      Any\n",
       "    ),\n",
       "    \u001b[33mAtomPattern\u001b[39m(\n",
       "      \u001b[33mVariable\u001b[39m(\u001b[33mVariable\u001b[39m(\u001b[32m2\u001b[39m)),\n",
       "      \u001b[33mConstant\u001b[39m(\u001b[33mLongUri\u001b[39m(\u001b[32m\"http://www.wikidata.org/prop/P102\"\u001b[39m)),\n",
       "      AnyConstant,\n",
       "      Any\n",
       "    ),\n",
       "    \u001b[33mAtomPattern\u001b[39m(\n",
       "      \u001b[33mVariable\u001b[39m(\u001b[33mVariable\u001b[39m(\u001b[32m2\u001b[39m)),\n",
       "      \u001b[33mConstant\u001b[39m(\n",
       "        \u001b[33mLongUri\u001b[39m(\u001b[32m\"http://kizi.vse.cz/novp19/diploma-thesis/appliesToRefPeriod\"\u001b[39m)\n",
       "      ),\n",
       "      \u001b[33mVariable\u001b[39m(\u001b[33mVariable\u001b[39m(\u001b[32m1\u001b[39m)),\n",
       "      Any\n",
       "..."
      ]
     },
     "execution_count": 32,
     "metadata": {},
     "output_type": "execute_result"
    }
   ],
   "source": [
    "val partySalariesPattern: RulePattern = (\n",
    "    AtomPattern(subject = 'a', predicate = czsoRefArea, `object` = 'f') &:\n",
    "    AtomPattern(subject = 'f', predicate = wdProperty(6), `object` = 'e') &:\n",
    "    AtomPattern(subject = 'e', predicate = wdProperty(6), `object` = 'd') &:\n",
    "    AtomPattern(subject = 'd', predicate = wdProperty(102), `object` = 'c') &:  \n",
    "    AtomPattern(subject = 'c', predicate = wdProperty(102), `object` = AnyConstant) &:\n",
    "    AtomPattern(subject = 'c', predicate = appliesTo, `object` = 'b') &:\n",
    "    AtomPattern(subject = 'a', predicate = czsoRefPeriod, `object` = 'b') &:\n",
    "    AtomPattern(subject = 'a', predicate = qbDataSet, `object` = AnyConstant)\n",
    "    =>:\n",
    "    AtomPattern(subject = 'a', predicate = oneOfSalariesMeasures)\n",
    ")"
   ]
  },
  {
   "cell_type": "code",
   "execution_count": null,
   "id": "graphic-invalid",
   "metadata": {},
   "outputs": [],
   "source": [
    "// TODO"
   ]
  }
 ],
 "metadata": {
  "kernelspec": {
   "display_name": "Scala",
   "language": "scala",
   "name": "scala"
  },
  "language_info": {
   "codemirror_mode": "text/x-scala",
   "file_extension": ".sc",
   "mimetype": "text/x-scala",
   "name": "scala",
   "nbconvert_exporter": "script",
   "version": "2.12.8"
  }
 },
 "nbformat": 4,
 "nbformat_minor": 5
}
