{
 "cells": [
  {
   "cell_type": "code",
   "execution_count": 6,
   "metadata": {},
   "outputs": [],
   "source": [
    "kernel.silent(true)"
   ]
  },
  {
   "cell_type": "code",
   "execution_count": 7,
   "metadata": {},
   "outputs": [],
   "source": [
    "import coursierapi.MavenRepository\n",
    "interp.repositories() ++= Seq(MavenRepository.of(\"https://jitpack.io\"))"
   ]
  },
  {
   "cell_type": "code",
   "execution_count": 8,
   "metadata": {},
   "outputs": [],
   "source": [
    "import $ivy.`com.github.propi:rdfrules:1.5.0`\n",
    "import collection._\n",
    "import org.apache.jena.riot.Lang\n",
    "\n",
    "import com.github.propi.rdfrules.data._\n",
    "import com.github.propi.rdfrules.algorithm.amie._\n",
    "import com.github.propi.rdfrules.algorithm.dbscan._\n",
    "import com.github.propi.rdfrules.utils._\n",
    "import com.github.propi.rdfrules.index._\n",
    "import com.github.propi.rdfrules.rule._\n",
    "import com.github.propi.rdfrules.ruleset._\n",
    "kernel.silent(false)"
   ]
  },
  {
   "cell_type": "code",
   "execution_count": 9,
   "metadata": {},
   "outputs": [
    {
     "data": {
      "text/plain": [
       "\u001b[36mwikidata\u001b[39m: \u001b[32mGraph\u001b[39m = com.github.propi.rdfrules.data.Graph@22791276\n",
       "\u001b[36mres8_1\u001b[39m: \u001b[32mInt\u001b[39m = \u001b[32m23291\u001b[39m"
      ]
     },
     "execution_count": 9,
     "metadata": {},
     "output_type": "execute_result"
    }
   ],
   "source": [
    "val wikidata = Graph(\"wikidata\",\"../data/wikidata/wikidata.ttl\")\n",
    "wikidata.size"
   ]
  },
  {
   "cell_type": "code",
   "execution_count": 10,
   "metadata": {},
   "outputs": [
    {
     "data": {
      "text/plain": [
       "\u001b[36mwikidataChronical\u001b[39m: \u001b[32mGraph\u001b[39m = com.github.propi.rdfrules.data.Graph@1844c660\n",
       "\u001b[36mres9_1\u001b[39m: \u001b[32mInt\u001b[39m = \u001b[32m2741\u001b[39m"
      ]
     },
     "execution_count": 10,
     "metadata": {},
     "output_type": "execute_result"
    }
   ],
   "source": [
    "val wikidataChronical = Graph(\"wikidata\",\"../data/wikidata/wikidataChronical.ttl\")\n",
    "wikidataChronical.size"
   ]
  },
  {
   "cell_type": "code",
   "execution_count": 11,
   "metadata": {},
   "outputs": [
    {
     "data": {
      "text/plain": [
       "\u001b[36mstart\u001b[39m: \u001b[32mString\u001b[39m = \u001b[32m\"http://www.wikidata.org/prop/P580\"\u001b[39m\n",
       "\u001b[36mend\u001b[39m: \u001b[32mString\u001b[39m = \u001b[32m\"http://www.wikidata.org/prop/P582\"\u001b[39m\n",
       "\u001b[36mwikidataNoTime\u001b[39m: \u001b[32mGraph\u001b[39m = com.github.propi.rdfrules.data.Graph@6e9bc779"
      ]
     },
     "execution_count": 11,
     "metadata": {},
     "output_type": "execute_result"
    }
   ],
   "source": [
    "val start = \"http://www.wikidata.org/prop/P580\"\n",
    "val end = \"http://www.wikidata.org/prop/P582\"\n",
    "val wikidataNoTime = wikidata.filter(t => !(t.predicate.hasSameUriAs(start) || t.predicate.hasSameUriAs(end)))"
   ]
  },
  {
   "cell_type": "code",
   "execution_count": 12,
   "metadata": {},
   "outputs": [
    {
     "data": {
      "text/html": [
       "<div class=\"jp-RenderedText\">\n",
       "<pre><code><span style=\"color: rgb(0, 187, 187)\"><span class=\"ansi-cyan-fg\">dataset</span></span>: <span style=\"color: rgb(0, 187, 0)\"><span class=\"ansi-green-fg\">Dataset</span></span> = com.github.propi.rdfrules.data.Dataset@8aa057a\n",
       "<span style=\"color: rgb(0, 187, 187)\"><span class=\"ansi-cyan-fg\">res11_2</span></span>: <span style=\"color: rgb(0, 187, 0)\"><span class=\"ansi-green-fg\">Int</span></span> = <span style=\"color: rgb(0, 187, 0)\"><span class=\"ansi-green-fg\">24410</span></span></code></pre>\n",
       "</div>"
      ],
      "text/plain": [
       "\u001b[36mdataset\u001b[39m: \u001b[32mDataset\u001b[39m = com.github.propi.rdfrules.data.Dataset@8aa057a\n",
       "\u001b[36mres11_2\u001b[39m: \u001b[32mInt\u001b[39m = \u001b[32m24410\u001b[39m"
      ]
     },
     "metadata": {},
     "output_type": "display_data"
    }
   ],
   "source": [
    "// TODO sjednotit a exportovat do cache a do souboru\n",
    "var dataset = Dataset() + wikidataNoTime + wikidataChronical\n",
    "dataset = dataset.setPrefixes(Traversable(\n",
    "    Prefix(\"wd\", \"http://www.wikidata.org/entity/\"),\n",
    "    Prefix(\"p\", \"http://www.wikidata.org/prop/\"),\n",
    "    Prefix(\"prfx\", \"http://kizi.vse.cz/novp19/diploma-thesis/\")\n",
    "    )   \n",
    ")\n",
    "dataset.size"
   ]
  },
  {
   "cell_type": "code",
   "execution_count": 13,
   "metadata": {},
   "outputs": [
    {
     "data": {
      "text/plain": [
       "\u001b[36mres12_0\u001b[39m: \u001b[32mDataset\u001b[39m = com.github.propi.rdfrules.data.Dataset@35f0a17d"
      ]
     },
     "execution_count": 13,
     "metadata": {},
     "output_type": "execute_result"
    }
   ],
   "source": [
    "dataset.cache(\"../cache/wikidata.cache\")\n",
    "dataset.export(\"../exports/wikidata.ttl\")"
   ]
  }
 ],
 "metadata": {
  "kernelspec": {
   "display_name": "Scala",
   "language": "scala",
   "name": "scala"
  },
  "language_info": {
   "codemirror_mode": "text/x-scala",
   "file_extension": ".sc",
   "mimetype": "text/x-scala",
   "name": "scala",
   "nbconvert_exporter": "script",
   "version": "2.12.8"
  }
 },
 "nbformat": 4,
 "nbformat_minor": 4
}
