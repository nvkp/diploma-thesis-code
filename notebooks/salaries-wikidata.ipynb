{
 "cells": [
  {
   "cell_type": "markdown",
   "id": "worth-singing",
   "metadata": {},
   "source": [
    "Tady bude úloha, která spojí údaje o platech v krajích s politickou reprezentací v krajích"
   ]
  },
  {
   "cell_type": "markdown",
   "id": "organic-priest",
   "metadata": {},
   "source": [
    "tady bude neco o uloze blablabla"
   ]
  },
  {
   "cell_type": "code",
   "execution_count": 1,
   "id": "distinct-costume",
   "metadata": {},
   "outputs": [],
   "source": [
    "// tady bude nacteni dependenci\n",
    "kernel.silent(true)"
   ]
  },
  {
   "cell_type": "code",
   "execution_count": 2,
   "id": "level-plaintiff",
   "metadata": {},
   "outputs": [],
   "source": [
    "import coursierapi.MavenRepository\n",
    "interp.repositories() ++= Seq(MavenRepository.of(\"https://jitpack.io\"))"
   ]
  },
  {
   "cell_type": "code",
   "execution_count": 3,
   "id": "unknown-sharp",
   "metadata": {},
   "outputs": [],
   "source": [
    "import $ivy.`com.github.propi:rdfrules:1.5.0`\n",
    "import collection._\n",
    "import org.apache.jena.riot.Lang\n",
    "\n",
    "import com.github.propi.rdfrules.data._\n",
    "import com.github.propi.rdfrules.algorithm.amie._\n",
    "import com.github.propi.rdfrules.algorithm.dbscan._\n",
    "import com.github.propi.rdfrules.utils._\n",
    "import com.github.propi.rdfrules.index._\n",
    "import com.github.propi.rdfrules.rule._\n",
    "import com.github.propi.rdfrules.ruleset._\n",
    "\n",
    "import reflect.io._, Path._\n",
    "import reflect.io._\n",
    "import Path._\n",
    "kernel.silent(false)"
   ]
  },
  {
   "cell_type": "code",
   "execution_count": 3,
   "id": "critical-livestock",
   "metadata": {},
   "outputs": [],
   "source": [
    "// tady bude nacteni a  predstaveni salaries nezpracovanych dat"
   ]
  },
  {
   "cell_type": "code",
   "execution_count": 3,
   "id": "russian-registration",
   "metadata": {},
   "outputs": [],
   "source": [
    "// tady bude zpracovani salaries dat"
   ]
  },
  {
   "cell_type": "code",
   "execution_count": 4,
   "id": "bulgarian-carolina",
   "metadata": {},
   "outputs": [
    {
     "data": {
      "text/plain": [
       "\u001b[36mgraphs\u001b[39m: \u001b[32mIterator\u001b[39m[\u001b[32mString\u001b[39m] = \u001b[32mnon-empty iterator\u001b[39m"
      ]
     },
     "execution_count": 4,
     "metadata": {},
     "output_type": "execute_result"
    }
   ],
   "source": [
    "val graphs = \"../data/salaries\".toDirectory.files.map(_.path).filter(g => g matches \"\"\".*\\.ttl\"\"\")"
   ]
  },
  {
   "cell_type": "code",
   "execution_count": 5,
   "id": "juvenile-constitutional",
   "metadata": {},
   "outputs": [
    {
     "data": {
      "text/html": [
       "<div class=\"jp-RenderedText\">\n",
       "<pre><code><span style=\"color: rgb(0, 187, 187)\"><span class=\"ansi-cyan-fg\">salariesCubesMap</span></span>: <span style=\"color: rgb(0, 187, 0)\"><span class=\"ansi-green-fg\">Map</span></span>[<span style=\"color: rgb(0, 187, 0)\"><span class=\"ansi-green-fg\">String</span></span>, <span style=\"color: rgb(0, 187, 0)\"><span class=\"ansi-green-fg\">Graph</span></span>] = <span style=\"color: yellow\"><span class=\"ansi-yellow-fg\">Map</span></span>(\n",
       "  <span style=\"color: rgb(0, 187, 0)\"><span class=\"ansi-green-fg\">&quot;salaries-female&quot;</span></span> -&gt; com.github.propi.rdfrules.data.Graph@6782533c,\n",
       "  <span style=\"color: rgb(0, 187, 0)\"><span class=\"ansi-green-fg\">&quot;salaries-male&quot;</span></span> -&gt; com.github.propi.rdfrules.data.Graph@13e2ffab,\n",
       "  <span style=\"color: rgb(0, 187, 0)\"><span class=\"ansi-green-fg\">&quot;salaries-total&quot;</span></span> -&gt; com.github.propi.rdfrules.data.Graph@507901f9\n",
       ")</code></pre>\n",
       "</div>"
      ],
      "text/plain": [
       "\u001b[36msalariesCubesMap\u001b[39m: \u001b[32mMap\u001b[39m[\u001b[32mString\u001b[39m, \u001b[32mGraph\u001b[39m] = \u001b[33mMap\u001b[39m(\n",
       "  \u001b[32m\"salaries-female\"\u001b[39m -> com.github.propi.rdfrules.data.Graph@6782533c,\n",
       "  \u001b[32m\"salaries-male\"\u001b[39m -> com.github.propi.rdfrules.data.Graph@13e2ffab,\n",
       "  \u001b[32m\"salaries-total\"\u001b[39m -> com.github.propi.rdfrules.data.Graph@507901f9\n",
       ")"
      ]
     },
     "metadata": {},
     "output_type": "display_data"
    }
   ],
   "source": [
    "var salariesCubesMap: Map[String, Graph] = Map()\n",
    "graphs.foreach(g => {\n",
    "    val name = g.replaceAll(\"\\\\.ttl\", \"\").replaceAll(\"^.*/\", \"\")\n",
    "    salariesCubesMap = salariesCubesMap + (name -> Graph(g))\n",
    "})"
   ]
  },
  {
   "cell_type": "code",
   "execution_count": 6,
   "id": "needed-information",
   "metadata": {},
   "outputs": [
    {
     "data": {
      "text/plain": [
       "\u001b[32mimport \u001b[39m\u001b[36meu.easyminer.discretization.impl.Interval\n",
       "\u001b[39m\n",
       "\u001b[32mimport \u001b[39m\u001b[36meu.easyminer.discretization.impl.IntervalBound._\n",
       "\u001b[39m\n",
       "\u001b[36mrounded\u001b[39m: (\u001b[32mDouble\u001b[39m, \u001b[32mInteger\u001b[39m) => \u001b[32mDouble\u001b[39m = ammonite.$sess.cmd5$Helper$$Lambda$2963/0x0000000840ce6040@74ee9cbc\n",
       "\u001b[36mintervalToString\u001b[39m: \u001b[32mInterval\u001b[39m => \u001b[32mString\u001b[39m = ammonite.$sess.cmd5$Helper$$Lambda$2964/0x0000000840ce6840@4bf33df3"
      ]
     },
     "execution_count": 6,
     "metadata": {},
     "output_type": "execute_result"
    }
   ],
   "source": [
    "import eu.easyminer.discretization.impl.Interval\n",
    "import eu.easyminer.discretization.impl.IntervalBound._\n",
    "val rounded = (value: Double, scale: Integer) => BigDecimal(value).setScale(scale, BigDecimal.RoundingMode.HALF_UP).toDouble\n",
    "val intervalToString = (i: Interval) => \"<\"+rounded(i.minValue.value,2)+ \"__\"+rounded(i.maxValue.value,2)+\")\""
   ]
  },
  {
   "cell_type": "code",
   "execution_count": 7,
   "id": "pediatric-turning",
   "metadata": {},
   "outputs": [
    {
     "data": {
      "text/plain": [
       "\u001b[36muri\u001b[39m: \u001b[32mString\u001b[39m => \u001b[32mTripleItem\u001b[39m.\u001b[32mUri\u001b[39m = ammonite.$sess.cmd6$Helper$$Lambda$2976/0x0000000840cef040@609aa3a0\n",
       "\u001b[36maverageSalary\u001b[39m: \u001b[32mTripleItem\u001b[39m.\u001b[32mUri\u001b[39m = \u001b[33mLongUri\u001b[39m(\n",
       "  \u001b[32m\"http://data.czso.cz/ontology/prumernaMzda\"\u001b[39m\n",
       ")\n",
       "\u001b[36mmedianSalary\u001b[39m: \u001b[32mTripleItem\u001b[39m.\u001b[32mUri\u001b[39m = \u001b[33mLongUri\u001b[39m(\n",
       "  \u001b[32m\"http://data.czso.cz/ontology/medianMzdy\"\u001b[39m\n",
       ")\n",
       "\u001b[36mmeasureUris\u001b[39m: \u001b[32mArray\u001b[39m[\u001b[32mTripleItem\u001b[39m.\u001b[32mUri\u001b[39m] = \u001b[33mArray\u001b[39m(\n",
       "  \u001b[33mLongUri\u001b[39m(\u001b[32m\"http://data.czso.cz/ontology/prumernaMzda\"\u001b[39m),\n",
       "  \u001b[33mLongUri\u001b[39m(\u001b[32m\"http://data.czso.cz/ontology/medianMzdy\"\u001b[39m)\n",
       ")"
      ]
     },
     "execution_count": 7,
     "metadata": {},
     "output_type": "execute_result"
    }
   ],
   "source": [
    "val uri = (value: String) => TripleItem.Uri(value)\n",
    "val averageSalary = uri(\"http://data.czso.cz/ontology/prumernaMzda\")\n",
    "val medianSalary = uri(\"http://data.czso.cz/ontology/medianMzdy\")\n",
    "val measureUris = Array(averageSalary,medianSalary)"
   ]
  },
  {
   "cell_type": "code",
   "execution_count": 8,
   "id": "severe-wallpaper",
   "metadata": {},
   "outputs": [
    {
     "data": {
      "text/plain": [
       "\u001b[36mequiFrequent\u001b[39m: \u001b[32mInt\u001b[39m => \u001b[32mDiscretizationTask\u001b[39m.\u001b[32mEquifrequency\u001b[39m = ammonite.$sess.cmd7$Helper$$Lambda$3016/0x0000000840d0f840@766c41e6\n",
       "\u001b[36mdiscretizeEquifrequent\u001b[39m: (\u001b[32mGraph\u001b[39m, \u001b[32mInt\u001b[39m, \u001b[32mTripleItem\u001b[39m.\u001b[32mUri\u001b[39m) => \u001b[32mGraph\u001b[39m = ammonite.$sess.cmd7$Helper$$Lambda$3017/0x0000000840d0f440@ee5ad4\n",
       "\u001b[36mdiscretizeEquifrequentAndGetIntervals\u001b[39m: (\u001b[32mGraph\u001b[39m, \u001b[32mInt\u001b[39m, \u001b[32mTripleItem\u001b[39m.\u001b[32mUri\u001b[39m) => \u001b[32mIndexedSeq\u001b[39m[\u001b[32mInterval\u001b[39m] = ammonite.$sess.cmd7$Helper$$Lambda$3018/0x0000000840d10040@426b2935"
      ]
     },
     "execution_count": 8,
     "metadata": {},
     "output_type": "execute_result"
    }
   ],
   "source": [
    "val equiFrequent = (intervalCount: Int) => DiscretizationTask.Equifrequency(intervalCount)\n",
    "\n",
    "val discretizeEquifrequent = (graph: Graph, intervalsCount: Int, measure: TripleItem.Uri) => {\n",
    "    graph.filter(t => t.predicate == measure)\n",
    "         .discretize(equiFrequent(intervalsCount))(quad => quad.triple.predicate == measure)\n",
    "}\n",
    "\n",
    "val discretizeEquifrequentAndGetIntervals = (graph: Graph, intervalsCount: Int, measure: TripleItem.Uri) => {\n",
    "    graph.filter(t => t.predicate == measure)\n",
    "         .discretizeAndGetIntervals(equiFrequent(intervalsCount))(quad => quad.triple.predicate == measure)\n",
    "}"
   ]
  },
  {
   "cell_type": "code",
   "execution_count": 9,
   "id": "extreme-shore",
   "metadata": {},
   "outputs": [
    {
     "data": {
      "text/plain": [
       "\u001b[32mimport \u001b[39m\u001b[36meu.easyminer.discretization.impl.Interval\n",
       "\n",
       "\u001b[39m\n",
       "\u001b[36mqbDataSetUri\u001b[39m: \u001b[32mString\u001b[39m = \u001b[32m\"http://purl.org/linked-data/cube#dataSet\"\u001b[39m\n",
       "\u001b[36mrenameInterval\u001b[39m: (\u001b[32mTriple\u001b[39m, \u001b[32mIndexedSeq\u001b[39m[\u001b[32mInterval\u001b[39m], \u001b[32mString\u001b[39m) => \u001b[32mTriple\u001b[39m = ammonite.$sess.cmd8$Helper$$Lambda$3073/0x0000000840d31c40@325ff2ef\n",
       "\u001b[36mdiscretize\u001b[39m: (\u001b[32mGraph\u001b[39m, \u001b[32mString\u001b[39m, \u001b[32mArray\u001b[39m[\u001b[32mInt\u001b[39m]) => \u001b[32mDataset\u001b[39m = ammonite.$sess.cmd8$Helper$$Lambda$3074/0x0000000840d32840@3ef8ad94"
      ]
     },
     "execution_count": 9,
     "metadata": {},
     "output_type": "execute_result"
    }
   ],
   "source": [
    "import eu.easyminer.discretization.impl.Interval\n",
    "\n",
    "val qbDataSetUri = \"http://purl.org/linked-data/cube#dataSet\";\n",
    "\n",
    "val renameInterval = (t: Triple, intervals: IndexedSeq[Interval], suffix: String) => {\n",
    "    var result = t\n",
    "    intervals.foreach(interval => {\n",
    "        val _interval = t.`object`.asInstanceOf[TripleItem.Interval]\n",
    "        if (_interval.interval == interval) {\n",
    "            result = t.copy(`object` = TripleItem.Uri(_interval.toString+\"_\"+suffix+\"_\"+(intervals.indexOf(interval)+1)+\"/\"+intervals.size) )\n",
    "        }\n",
    "    })\n",
    "    result\n",
    "}\n",
    "\n",
    "val discretize = (graph: Graph, name: String, intervalCounts: Array[Int]) => {\n",
    "    var result = Dataset() + \n",
    "    graph.filter(t => !measureUris.contains(t.predicate))\n",
    "    .map(t => if (t.predicate.hasSameUriAs(qbDataSetUri)) t.copy(`object` = uri(name)) else t)\n",
    "    \n",
    "        measureUris.foreach(measure => {\n",
    "            intervalCounts.foreach(intervalCount => {\n",
    "                val intervals = discretizeEquifrequentAndGetIntervals(graph, intervalCount, measure)\n",
    "                val measures = discretizeEquifrequent(graph, intervalCount, measure)\n",
    "                result = result + measures.map(t => {renameInterval(t, intervals, \"ef\"+intervalCount)})\n",
    "            })\n",
    "    })\n",
    "    result\n",
    "}"
   ]
  },
  {
   "cell_type": "code",
   "execution_count": 10,
   "id": "practical-mills",
   "metadata": {},
   "outputs": [
    {
     "data": {
      "text/html": [
       "<div class=\"jp-RenderedText\">\n",
       "<pre><code><span style=\"color: rgb(0, 187, 187)\"><span class=\"ansi-cyan-fg\">intervalCounts</span></span>: <span style=\"color: rgb(0, 187, 0)\"><span class=\"ansi-green-fg\">Array</span></span>[<span style=\"color: rgb(0, 187, 0)\"><span class=\"ansi-green-fg\">Int</span></span>] = <span style=\"color: yellow\"><span class=\"ansi-yellow-fg\">Array</span></span>(<span style=\"color: rgb(0, 187, 0)\"><span class=\"ansi-green-fg\">2</span></span>, <span style=\"color: rgb(0, 187, 0)\"><span class=\"ansi-green-fg\">3</span></span>, <span style=\"color: rgb(0, 187, 0)\"><span class=\"ansi-green-fg\">5</span></span>, <span style=\"color: rgb(0, 187, 0)\"><span class=\"ansi-green-fg\">7</span></span>)\n",
       "<span style=\"color: rgb(0, 187, 187)\"><span class=\"ansi-cyan-fg\">salaries</span></span>: <span style=\"color: rgb(0, 187, 0)\"><span class=\"ansi-green-fg\">Dataset</span></span> = com.github.propi.rdfrules.data.Dataset@307594b0</code></pre>\n",
       "</div>"
      ],
      "text/plain": [
       "\u001b[36mintervalCounts\u001b[39m: \u001b[32mArray\u001b[39m[\u001b[32mInt\u001b[39m] = \u001b[33mArray\u001b[39m(\u001b[32m2\u001b[39m, \u001b[32m3\u001b[39m, \u001b[32m5\u001b[39m, \u001b[32m7\u001b[39m)\n",
       "\u001b[36msalaries\u001b[39m: \u001b[32mDataset\u001b[39m = com.github.propi.rdfrules.data.Dataset@307594b0"
      ]
     },
     "metadata": {},
     "output_type": "display_data"
    }
   ],
   "source": [
    "val intervalCounts = Array(2, 3, 5, 7)\n",
    "var salaries = Dataset()\n",
    "salariesCubesMap\n",
    ".map(t => discretize(t._2,t._1,intervalCounts))\n",
    ".foreach(d => salaries = salaries + d)"
   ]
  },
  {
   "cell_type": "code",
   "execution_count": 10,
   "id": "compressed-blond",
   "metadata": {},
   "outputs": [],
   "source": [
    "// tady bude nacteni a predstaveni (i dotazy pro extrakci) wikidata dat"
   ]
  },
  {
   "cell_type": "code",
   "execution_count": 10,
   "id": "amateur-accountability",
   "metadata": {},
   "outputs": [],
   "source": [
    "// tady bude zpracování wikidata dat"
   ]
  },
  {
   "cell_type": "code",
   "execution_count": 10,
   "id": "green-certificate",
   "metadata": {},
   "outputs": [],
   "source": [
    "// TODO ukazat dotaz"
   ]
  },
  {
   "cell_type": "code",
   "execution_count": 34,
   "id": "chicken-backing",
   "metadata": {},
   "outputs": [
    {
     "data": {
      "text/plain": [
       "\u001b[36mwikidata\u001b[39m: \u001b[32mGraph\u001b[39m = com.github.propi.rdfrules.data.Graph@2e5202e1\n",
       "\u001b[36mres33_1\u001b[39m: \u001b[32mInt\u001b[39m = \u001b[32m23291\u001b[39m"
      ]
     },
     "execution_count": 34,
     "metadata": {},
     "output_type": "execute_result"
    }
   ],
   "source": [
    "val wikidata = Graph(\"wikidata\",\"../data/wikidata/wikidata.ttl\")\n",
    "wikidata.size"
   ]
  },
  {
   "cell_type": "code",
   "execution_count": 11,
   "id": "selected-genesis",
   "metadata": {},
   "outputs": [],
   "source": [
    "// TODO ukazat dotaz"
   ]
  },
  {
   "cell_type": "code",
   "execution_count": 35,
   "id": "engaged-physiology",
   "metadata": {},
   "outputs": [
    {
     "data": {
      "text/plain": [
       "\u001b[36mwikidataChronical\u001b[39m: \u001b[32mGraph\u001b[39m = com.github.propi.rdfrules.data.Graph@645fc4f5\n",
       "\u001b[36mres34_1\u001b[39m: \u001b[32mInt\u001b[39m = \u001b[32m3268\u001b[39m"
      ]
     },
     "execution_count": 35,
     "metadata": {},
     "output_type": "execute_result"
    }
   ],
   "source": [
    "val wikidataChronical = Graph(\"wikidata\",\"../data/wikidata/wikidataChronicalDay.ttl\")\n",
    "wikidataChronical.size"
   ]
  },
  {
   "cell_type": "code",
   "execution_count": 36,
   "id": "breathing-apache",
   "metadata": {},
   "outputs": [
    {
     "data": {
      "text/plain": [
       "\u001b[36mstart\u001b[39m: \u001b[32mString\u001b[39m = \u001b[32m\"http://www.wikidata.org/prop/P580\"\u001b[39m\n",
       "\u001b[36mend\u001b[39m: \u001b[32mString\u001b[39m = \u001b[32m\"http://www.wikidata.org/prop/P582\"\u001b[39m\n",
       "\u001b[36mwikidataNoTime\u001b[39m: \u001b[32mGraph\u001b[39m = com.github.propi.rdfrules.data.Graph@58506a7a"
      ]
     },
     "execution_count": 36,
     "metadata": {},
     "output_type": "execute_result"
    }
   ],
   "source": [
    "val start = \"http://www.wikidata.org/prop/P580\"\n",
    "val end = \"http://www.wikidata.org/prop/P582\"\n",
    "val wikidataNoTime = wikidata.filter(t => !(t.predicate.hasSameUriAs(start) || t.predicate.hasSameUriAs(end)))"
   ]
  },
  {
   "cell_type": "code",
   "execution_count": 37,
   "id": "apparent-mechanics",
   "metadata": {},
   "outputs": [
    {
     "data": {
      "text/html": [
       "<div class=\"jp-RenderedText\">\n",
       "<pre><code><span style=\"color: rgb(0, 187, 187)\"><span class=\"ansi-cyan-fg\">wikidata</span></span>: <span style=\"color: rgb(0, 187, 0)\"><span class=\"ansi-green-fg\">Dataset</span></span> = com.github.propi.rdfrules.data.Dataset@f149848\n",
       "<span style=\"color: rgb(0, 187, 187)\"><span class=\"ansi-cyan-fg\">res36_2</span></span>: <span style=\"color: rgb(0, 187, 0)\"><span class=\"ansi-green-fg\">Int</span></span> = <span style=\"color: rgb(0, 187, 0)\"><span class=\"ansi-green-fg\">24937</span></span></code></pre>\n",
       "</div>"
      ],
      "text/plain": [
       "\u001b[36mwikidata\u001b[39m: \u001b[32mDataset\u001b[39m = com.github.propi.rdfrules.data.Dataset@f149848\n",
       "\u001b[36mres36_2\u001b[39m: \u001b[32mInt\u001b[39m = \u001b[32m24937\u001b[39m"
      ]
     },
     "metadata": {},
     "output_type": "display_data"
    }
   ],
   "source": [
    "var wikidata = Dataset() + wikidataNoTime + wikidataChronical\n",
    "wikidata = wikidata.setPrefixes(Traversable(\n",
    "    Prefix(\"wd\", \"http://www.wikidata.org/entity/\"),\n",
    "    Prefix(\"p\", \"http://www.wikidata.org/prop/\"),\n",
    "    Prefix(\"prfx\", \"http://kizi.vse.cz/novp19/diploma-thesis/\")\n",
    "    )   \n",
    ")\n",
    "wikidata.size"
   ]
  },
  {
   "cell_type": "code",
   "execution_count": 14,
   "id": "southwest-bottom",
   "metadata": {},
   "outputs": [],
   "source": [
    "// tady bude zmergovani dat"
   ]
  },
  {
   "cell_type": "code",
   "execution_count": 38,
   "id": "prescription-canvas",
   "metadata": {},
   "outputs": [
    {
     "data": {
      "text/plain": [
       "\u001b[36mczsoWikidataLinking\u001b[39m: \u001b[32mDataset\u001b[39m = com.github.propi.rdfrules.data.Dataset@2e10a1e4\n",
       "\u001b[36mres37_1\u001b[39m: \u001b[32mInt\u001b[39m = \u001b[32m90\u001b[39m\n",
       "\u001b[36mrefPeriodLinking\u001b[39m: \u001b[32mDataset\u001b[39m = com.github.propi.rdfrules.data.Dataset@16920480\n",
       "\u001b[36mres37_3\u001b[39m: \u001b[32mInt\u001b[39m = \u001b[32m165\u001b[39m"
      ]
     },
     "execution_count": 38,
     "metadata": {},
     "output_type": "execute_result"
    }
   ],
   "source": [
    "val czsoWikidataLinking = Dataset(\"../data/linking/czsoWikidataLinking.ttl\")\n",
    "czsoWikidataLinking.size\n",
    "val refPeriodLinking = Dataset(\"../data/linking/cssaday-datagov.ttl\")\n",
    "refPeriodLinking.size"
   ]
  },
  {
   "cell_type": "code",
   "execution_count": 39,
   "id": "wired-inspector",
   "metadata": {},
   "outputs": [
    {
     "data": {
      "text/plain": [
       "\u001b[36mdataset\u001b[39m: \u001b[32mDataset\u001b[39m = com.github.propi.rdfrules.data.Dataset@dde69e3\n",
       "\u001b[36mres38_1\u001b[39m: \u001b[32mInt\u001b[39m = \u001b[32m26830\u001b[39m"
      ]
     },
     "execution_count": 39,
     "metadata": {},
     "output_type": "execute_result"
    }
   ],
   "source": [
    "val dataset = salaries + refPeriodLinking + wikidata + czsoWikidataLinking\n",
    "dataset.size"
   ]
  },
  {
   "cell_type": "code",
   "execution_count": 40,
   "id": "inside-liberal",
   "metadata": {},
   "outputs": [
    {
     "data": {
      "text/plain": [
       "\u001b[36mindex\u001b[39m: \u001b[32mIndex\u001b[39m = com.github.propi.rdfrules.index.Index$FromDatasetFullyPreservedIndex@78dace87"
      ]
     },
     "execution_count": 40,
     "metadata": {},
     "output_type": "execute_result"
    }
   ],
   "source": [
    "val index = dataset.index()"
   ]
  },
  {
   "cell_type": "code",
   "execution_count": 17,
   "id": "diverse-working",
   "metadata": {},
   "outputs": [],
   "source": [
    "/*val appliesTo = uri(\"http://kizi.vse.cz/novp19/diploma-thesis/appliesToRefPeriod\")\n",
    "val wdProperty = (value: Int) => uri(\"http://www.wikidata.org/prop/P\" + value)\n",
    "val qbDataSet = uri(qbDataSetUri)\n",
    "\n",
    "// salariesMeasures\n",
    "val averageSalary = TripleItem.Uri(\"http://data.czso.cz/ontology/prumernaMzda\")\n",
    "val medianSalary = TripleItem.Uri(\"http://data.czso.cz/ontology/medianMzdy\")\n",
    "val oneOfSalariesMeasures = OneOf(averageSalary,medianSalary)\n",
    "\n",
    "// czso dimensions\n",
    "val czsoOntology = \"http://data.czso.cz/ontology/\"\n",
    "val czsoRefPeriod = uri(czsoOntology+\"refPeriod\")\n",
    "val czsoRefArea = uri(czsoOntology+\"refArea\")\n",
    "val czsoSex = uri(czsoOntology+\"sex\")\n",
    "\n",
    "val constantsAtObject = RuleConstraint.ConstantsAtPosition.ConstantsPosition.Object\n",
    "val constantsOnlyAtObject = RuleConstraint.ConstantsAtPosition(constantsAtObject)\n",
    "\n",
    "val salariesTotal = uri(\"salaries-total\")*/"
   ]
  },
  {
   "cell_type": "code",
   "execution_count": 41,
   "id": "existing-chicken",
   "metadata": {},
   "outputs": [
    {
     "data": {
      "text/plain": [
       "\u001b[36mczsoOntology\u001b[39m: \u001b[32mString\u001b[39m = \u001b[32m\"http://data.czso.cz/ontology/\"\u001b[39m\n",
       "\u001b[36mczsoRefArea\u001b[39m: \u001b[32mTripleItem\u001b[39m.\u001b[32mUri\u001b[39m = \u001b[33mLongUri\u001b[39m(\u001b[32m\"http://data.czso.cz/ontology/refArea\"\u001b[39m)\n",
       "\u001b[36mczsoRefPeriod\u001b[39m: \u001b[32mTripleItem\u001b[39m.\u001b[32mUri\u001b[39m = \u001b[33mLongUri\u001b[39m(\n",
       "  \u001b[32m\"http://data.czso.cz/ontology/refPeriod\"\u001b[39m\n",
       ")\n",
       "\u001b[36mwdProperty\u001b[39m: \u001b[32mInt\u001b[39m => \u001b[32mTripleItem\u001b[39m.\u001b[32mUri\u001b[39m = ammonite.$sess.cmd40$Helper$$Lambda$3914/0x0000000840f5e840@36310f73\n",
       "\u001b[36mappliesTo\u001b[39m: \u001b[32mTripleItem\u001b[39m.\u001b[32mUri\u001b[39m = \u001b[33mLongUri\u001b[39m(\n",
       "  \u001b[32m\"http://kizi.vse.cz/novp19/diploma-thesis/appliesToRefPeriod\"\u001b[39m\n",
       ")\n",
       "\u001b[36maverageSalary\u001b[39m: \u001b[32mTripleItem\u001b[39m.\u001b[32mUri\u001b[39m = \u001b[33mLongUri\u001b[39m(\n",
       "  \u001b[32m\"http://data.czso.cz/ontology/prumernaMzda\"\u001b[39m\n",
       ")\n",
       "\u001b[36mmedianSalary\u001b[39m: \u001b[32mTripleItem\u001b[39m.\u001b[32mUri\u001b[39m = \u001b[33mLongUri\u001b[39m(\n",
       "  \u001b[32m\"http://data.czso.cz/ontology/medianMzdy\"\u001b[39m\n",
       ")\n",
       "\u001b[36moneOfSalariesMeasures\u001b[39m: \u001b[32mAtomPattern\u001b[39m.\u001b[32mAtomItemPattern\u001b[39m.\u001b[32mOneOf\u001b[39m = \u001b[33mOneOf\u001b[39m(\n",
       "  \u001b[33mArrayBuffer\u001b[39m(\n",
       "    \u001b[33mConstant\u001b[39m(\u001b[33mLongUri\u001b[39m(\u001b[32m\"http://data.czso.cz/ontology/prumernaMzda\"\u001b[39m)),\n",
       "    \u001b[33mConstant\u001b[39m(\u001b[33mLongUri\u001b[39m(\u001b[32m\"http://data.czso.cz/ontology/medianMzdy\"\u001b[39m))\n",
       "  )\n",
       ")\n",
       "\u001b[36mqbDataSet\u001b[39m: \u001b[32mTripleItem\u001b[39m.\u001b[32mUri\u001b[39m = \u001b[33mLongUri\u001b[39m(\u001b[32m\"http://purl.org/linked-data/cube#dataSet\"\u001b[39m)\n",
       "\u001b[36msalariesAlignmentPattern\u001b[39m: \u001b[32mRulePattern\u001b[39m = \u001b[33mRulePattern\u001b[39m(\n",
       "  \u001b[33mVector\u001b[39m(\n",
       "    \u001b[33mAtomPattern\u001b[39m(\n",
       "      \u001b[33mVariable\u001b[39m(\u001b[33mVariable\u001b[39m(\u001b[32m3\u001b[39m)),\n",
       "      \u001b[33mConstant\u001b[39m(\u001b[33mLongUri\u001b[39m(\u001b[32m\"http://data.czso.cz/ontology/refArea\"\u001b[39m)),\n",
       "      \u001b[33mVariable\u001b[39m(\u001b[33mVariable\u001b[39m(\u001b[32m6\u001b[39m)),\n",
       "      Any\n",
       "    ),\n",
       "    \u001b[33mAtomPattern\u001b[39m(\n",
       "      \u001b[33mVariable\u001b[39m(\u001b[33mVariable\u001b[39m(\u001b[32m6\u001b[39m)),\n",
       "      \u001b[33mConstant\u001b[39m(\u001b[33mLongUri\u001b[39m(\u001b[32m\"http://www.wikidata.org/prop/P6\"\u001b[39m)),\n",
       "      \u001b[33mVariable\u001b[39m(\u001b[33mVariable\u001b[39m(\u001b[32m5\u001b[39m)),\n",
       "      Any\n",
       "    ),\n",
       "    \u001b[33mAtomPattern\u001b[39m(\n",
       "      \u001b[33mVariable\u001b[39m(\u001b[33mVariable\u001b[39m(\u001b[32m5\u001b[39m)),\n",
       "      \u001b[33mConstant\u001b[39m(\u001b[33mLongUri\u001b[39m(\u001b[32m\"http://www.wikidata.org/prop/P6\"\u001b[39m)),\n",
       "      \u001b[33mVariable\u001b[39m(\u001b[33mVariable\u001b[39m(\u001b[32m4\u001b[39m)),\n",
       "      Any\n",
       "    ),\n",
       "    \u001b[33mAtomPattern\u001b[39m(\n",
       "      \u001b[33mVariable\u001b[39m(\u001b[33mVariable\u001b[39m(\u001b[32m4\u001b[39m)),\n",
       "      \u001b[33mConstant\u001b[39m(\u001b[33mLongUri\u001b[39m(\u001b[32m\"http://www.wikidata.org/prop/P102\"\u001b[39m)),\n",
       "      \u001b[33mVariable\u001b[39m(\u001b[33mVariable\u001b[39m(\u001b[32m1\u001b[39m)),\n",
       "      Any\n",
       "    ),\n",
       "    \u001b[33mAtomPattern\u001b[39m(\n",
       "      \u001b[33mVariable\u001b[39m(\u001b[33mVariable\u001b[39m(\u001b[32m3\u001b[39m)),\n",
       "      \u001b[33mOneOf\u001b[39m(\n",
       "        \u001b[33mArrayBuffer\u001b[39m(\n",
       "          \u001b[33mConstant\u001b[39m(\u001b[33mLongUri\u001b[39m(\u001b[32m\"http://data.czso.cz/ontology/prumernaMzda\"\u001b[39m)),\n",
       "          \u001b[33mConstant\u001b[39m(\u001b[33mLongUri\u001b[39m(\u001b[32m\"http://data.czso.cz/ontology/medianMzdy\"\u001b[39m))\n",
       "        )\n",
       "      ),\n",
       "      AnyConstant,\n",
       "      Any\n",
       "    ),\n",
       "    \u001b[33mAtomPattern\u001b[39m(\n",
       "      \u001b[33mVariable\u001b[39m(\u001b[33mVariable\u001b[39m(\u001b[32m3\u001b[39m)),\n",
       "..."
      ]
     },
     "execution_count": 41,
     "metadata": {},
     "output_type": "execute_result"
    }
   ],
   "source": [
    "val czsoOntology = \"http://data.czso.cz/ontology/\"\n",
    "val czsoRefArea = uri(czsoOntology+\"refArea\")\n",
    "val czsoRefPeriod = uri(czsoOntology+\"refPeriod\")\n",
    "\n",
    "val wdProperty = (value: Int) => uri(\"http://www.wikidata.org/prop/P\" + value)\n",
    "val appliesTo = uri(\"http://kizi.vse.cz/novp19/diploma-thesis/appliesToRefPeriod\")\n",
    "\n",
    "val averageSalary = TripleItem.Uri(\"http://data.czso.cz/ontology/prumernaMzda\")\n",
    "val medianSalary = TripleItem.Uri(\"http://data.czso.cz/ontology/medianMzdy\")\n",
    "val oneOfSalariesMeasures = OneOf(averageSalary,medianSalary)\n",
    "\n",
    "val qbDataSet = uri(qbDataSetUri)\n",
    "\n",
    "// val salariesTotal = uri(\"salaries-total\") // OPRAVDU TO CHCI JENOM Z TOTALU ????\n",
    "\n",
    "\n",
    "val salariesAlignmentPattern: RulePattern = (\n",
    "    AtomPattern(subject = 'd', predicate = czsoRefArea, `object` = 'g') &:\n",
    "    AtomPattern(subject = 'g', predicate = wdProperty(6), `object` = 'f') &:\n",
    "    AtomPattern(subject = 'f', predicate = wdProperty(6), `object` = 'e') &:   \n",
    "    AtomPattern(subject = 'e', predicate = wdProperty(102), `object` = 'b') &:\n",
    "    AtomPattern(subject = 'd', predicate = oneOfSalariesMeasures, `object` = AnyConstant) &:\n",
    "    AtomPattern(subject = 'd', predicate = qbDataSet, `object` = AnyConstant) &:\n",
    "    \n",
    "    AtomPattern(subject = 'd', predicate = czsoRefPeriod, `object` = 'c') &:\n",
    "    AtomPattern(subject = 'b', predicate = appliesTo, `object` = 'c') &:\n",
    "    AtomPattern(subject = 'b', predicate = wdProperty(102), `object` = 'a')\n",
    "    =>:\n",
    "    AtomPattern(subject = 'a', predicate = wdProperty(1387), `object` = AnyConstant)\n",
    ")"
   ]
  },
  {
   "cell_type": "code",
   "execution_count": 42,
   "id": "apparent-colon",
   "metadata": {},
   "outputs": [
    {
     "data": {
      "text/plain": [
       "\u001b[36mconstantsAtObject\u001b[39m: \u001b[32mRuleConstraint\u001b[39m.\u001b[32mConstantsAtPosition\u001b[39m.\u001b[32mConstantsPosition\u001b[39m.\u001b[32mObject\u001b[39m.type = Object\n",
       "\u001b[36mconstantsOnlyAtObject\u001b[39m: \u001b[32mRuleConstraint\u001b[39m.\u001b[32mConstantsAtPosition\u001b[39m = \u001b[33mConstantsAtPosition\u001b[39m(\n",
       "  Object\n",
       ")\n",
       "\u001b[36msalariesAlignmentPatternTask\u001b[39m: \u001b[32mcom\u001b[39m.\u001b[32mgithub\u001b[39m.\u001b[32mpropi\u001b[39m.\u001b[32mrdfrules\u001b[39m.\u001b[32malgorithm\u001b[39m.\u001b[32mRulesMining\u001b[39m = com.github.propi.rdfrules.algorithm.amie.Amie@69c06454"
      ]
     },
     "execution_count": 42,
     "metadata": {},
     "output_type": "execute_result"
    }
   ],
   "source": [
    "val constantsAtObject = RuleConstraint.ConstantsAtPosition.ConstantsPosition.Object\n",
    "val constantsOnlyAtObject = RuleConstraint.ConstantsAtPosition(constantsAtObject)\n",
    "\n",
    "val salariesAlignmentPatternTask = Amie()\n",
    "    .addThreshold(Threshold.MinSupport(1))\n",
    "    .addThreshold(Threshold.MaxRuleLength(10))\n",
    "    .addThreshold(Threshold.MinHeadSize(0))\n",
    "    .addThreshold(Threshold.Timeout(1))\n",
    "    .addConstraint(constantsOnlyAtObject)\n",
    "    .addPattern(salariesAlignmentPattern)"
   ]
  },
  {
   "cell_type": "code",
   "execution_count": 43,
   "id": "popular-chair",
   "metadata": {},
   "outputs": [
    {
     "name": "stderr",
     "output_type": "stream",
     "text": [
      "2021-10-27 08:43:47:272 +0200 [scala-interpreter-1] INFO com.github.propi.rdfrules.utils.Debugger - Predicates trimming.\n",
      "2021-10-27 08:43:47:287 +0200 [scala-interpreter-1] INFO com.github.propi.rdfrules.utils.Debugger - Subjects indexing.\n",
      "2021-10-27 08:43:47:307 +0200 [scala-interpreter-1] INFO com.github.propi.rdfrules.utils.Debugger - Subjects trimming.\n",
      "2021-10-27 08:43:47:316 +0200 [scala-interpreter-1] INFO com.github.propi.rdfrules.utils.Debugger - Objects indexing.\n",
      "2021-10-27 08:43:47:334 +0200 [scala-interpreter-1] INFO com.github.propi.rdfrules.utils.Debugger - Objects trimming.\n",
      "2021-10-27 08:43:47:338 +0200 [scala-interpreter-1] INFO com.github.propi.rdfrules.utils.Debugger - Amie task settings:\n",
      "MinHeadSize=1,\n",
      "MinHeadCoverage=0.0,\n",
      "MinSupport=1,\n",
      "MaxThreads=4,\n",
      "MinAtomSize=0,\n",
      "MaxRuleLength=10,\n",
      "WithConstants=true,\n",
      "ConstantsPosition=Object,\n",
      "Timeout=60000,\n",
      "WithDuplicitPredicates=true,\n",
      "Patterns=List(Mapped(Vector(Mapped(Variable(?d),Constant(Constant(1481837794)),Variable(?g),Any), Mapped(Variable(?g),Constant(Constant(774364698)),Variable(?f),Any), Mapped(Variable(?f),Constant(Constant(774364698)),Variable(?e),Any), Mapped(Variable(?e),Constant(Constant(52500897)),Variable(?b),Any), Mapped(Variable(?d),OneOf(ArrayBuffer(Constant(Constant(1433642368)), Constant(Constant(1396113393)))),AnyConstant,Any), Mapped(Variable(?d),Constant(Constant(624690160)),AnyConstant,Any), Mapped(Variable(?d),Constant(Constant(-901057765)),Variable(?c),Any), Mapped(Variable(?b),Constant(Constant(217712947)),Variable(?c),Any), Mapped(Variable(?b),Constant(Constant(52500897)),Variable(?a),Any)),Some(Mapped(Variable(?a),Constant(Constant(1496784743)),AnyConstant,Any)),false,false)),\n",
      "OnlyPredicates=None,\n",
      "WithoutPredicates=None\n"
     ]
    },
    {
     "name": "stdout",
     "output_type": "stream",
     "text": [
      "rules: 251\n",
      "duration: 2s\n"
     ]
    },
    {
     "data": {
      "text/plain": [
       "\u001b[36mstartTimeMillis\u001b[39m: \u001b[32mLong\u001b[39m = \u001b[32m1635317026531L\u001b[39m\n",
       "\u001b[36msalariesAlignmentPatternTaskRuleset\u001b[39m: \u001b[32mRuleset\u001b[39m = com.github.propi.rdfrules.ruleset.Ruleset@3d5fc9c8\n",
       "\u001b[36mendTimeMillis\u001b[39m: \u001b[32mLong\u001b[39m = \u001b[32m1635317028715L\u001b[39m\n",
       "\u001b[36mdurationSeconds\u001b[39m: \u001b[32mLong\u001b[39m = \u001b[32m2L\u001b[39m"
      ]
     },
     "execution_count": 43,
     "metadata": {},
     "output_type": "execute_result"
    }
   ],
   "source": [
    "val startTimeMillis = System.currentTimeMillis()\n",
    "val salariesAlignmentPatternTaskRuleset = index.mine(salariesAlignmentPatternTask)\n",
    "println(\"rules: \"+salariesAlignmentPatternTaskRuleset.size)\n",
    "val endTimeMillis = System.currentTimeMillis()\n",
    "val durationSeconds = (endTimeMillis - startTimeMillis) / 1000\n",
    "println(\"duration: \" + durationSeconds + \"s\")"
   ]
  },
  {
   "cell_type": "code",
   "execution_count": 45,
   "id": "overhead-congo",
   "metadata": {},
   "outputs": [],
   "source": [
    "salariesAlignmentPatternTaskRuleset.export(\"../rulesets/salaries-wikidata/salariesAlignmentPatternTaskRuleset.txt\")"
   ]
  },
  {
   "cell_type": "code",
   "execution_count": 46,
   "id": "historic-hypothetical",
   "metadata": {},
   "outputs": [],
   "source": [
    "salariesAlignmentPatternTaskRuleset\n",
    ".filter(rule => rule.measures(Measure.Support).value > 1)\n",
    ".computePcaConfidence(0.0)\n",
    ".sortBy(Measure.PcaConfidence, Measure.Support)\n",
    ".export(\"../rulesets/salaries-wikidata/salariesAlignmentPatternTaskRulesetFiltered.txt\")"
   ]
  },
  {
   "cell_type": "code",
   "execution_count": 47,
   "id": "republican-found",
   "metadata": {},
   "outputs": [
    {
     "data": {
      "text/plain": [
       "\u001b[36msalariesPartyPattern\u001b[39m: \u001b[32mRulePattern\u001b[39m = \u001b[33mRulePattern\u001b[39m(\n",
       "  \u001b[33mVector\u001b[39m(\n",
       "    \u001b[33mAtomPattern\u001b[39m(\n",
       "      \u001b[33mVariable\u001b[39m(\u001b[33mVariable\u001b[39m(\u001b[32m2\u001b[39m)),\n",
       "      \u001b[33mConstant\u001b[39m(\u001b[33mLongUri\u001b[39m(\u001b[32m\"http://data.czso.cz/ontology/refArea\"\u001b[39m)),\n",
       "      \u001b[33mVariable\u001b[39m(\u001b[33mVariable\u001b[39m(\u001b[32m5\u001b[39m)),\n",
       "      Any\n",
       "    ),\n",
       "    \u001b[33mAtomPattern\u001b[39m(\n",
       "      \u001b[33mVariable\u001b[39m(\u001b[33mVariable\u001b[39m(\u001b[32m5\u001b[39m)),\n",
       "      \u001b[33mConstant\u001b[39m(\u001b[33mLongUri\u001b[39m(\u001b[32m\"http://www.wikidata.org/prop/P6\"\u001b[39m)),\n",
       "      \u001b[33mVariable\u001b[39m(\u001b[33mVariable\u001b[39m(\u001b[32m4\u001b[39m)),\n",
       "      Any\n",
       "    ),\n",
       "    \u001b[33mAtomPattern\u001b[39m(\n",
       "      \u001b[33mVariable\u001b[39m(\u001b[33mVariable\u001b[39m(\u001b[32m4\u001b[39m)),\n",
       "      \u001b[33mConstant\u001b[39m(\u001b[33mLongUri\u001b[39m(\u001b[32m\"http://www.wikidata.org/prop/P6\"\u001b[39m)),\n",
       "      \u001b[33mVariable\u001b[39m(\u001b[33mVariable\u001b[39m(\u001b[32m3\u001b[39m)),\n",
       "      Any\n",
       "    ),\n",
       "    \u001b[33mAtomPattern\u001b[39m(\n",
       "      \u001b[33mVariable\u001b[39m(\u001b[33mVariable\u001b[39m(\u001b[32m3\u001b[39m)),\n",
       "      \u001b[33mConstant\u001b[39m(\u001b[33mLongUri\u001b[39m(\u001b[32m\"http://www.wikidata.org/prop/P102\"\u001b[39m)),\n",
       "      \u001b[33mVariable\u001b[39m(\u001b[33mVariable\u001b[39m(\u001b[32m0\u001b[39m)),\n",
       "      Any\n",
       "    ),\n",
       "    \u001b[33mAtomPattern\u001b[39m(\n",
       "      \u001b[33mVariable\u001b[39m(\u001b[33mVariable\u001b[39m(\u001b[32m2\u001b[39m)),\n",
       "      \u001b[33mOneOf\u001b[39m(\n",
       "        \u001b[33mArrayBuffer\u001b[39m(\n",
       "          \u001b[33mConstant\u001b[39m(\u001b[33mLongUri\u001b[39m(\u001b[32m\"http://data.czso.cz/ontology/prumernaMzda\"\u001b[39m)),\n",
       "          \u001b[33mConstant\u001b[39m(\u001b[33mLongUri\u001b[39m(\u001b[32m\"http://data.czso.cz/ontology/medianMzdy\"\u001b[39m))\n",
       "        )\n",
       "      ),\n",
       "      AnyConstant,\n",
       "      Any\n",
       "    ),\n",
       "    \u001b[33mAtomPattern\u001b[39m(\n",
       "      \u001b[33mVariable\u001b[39m(\u001b[33mVariable\u001b[39m(\u001b[32m2\u001b[39m)),\n",
       "..."
      ]
     },
     "execution_count": 47,
     "metadata": {},
     "output_type": "execute_result"
    }
   ],
   "source": [
    "val salariesPartyPattern: RulePattern = (\n",
    "    AtomPattern(subject = 'c', predicate = czsoRefArea, `object` = 'f') &:\n",
    "    AtomPattern(subject = 'f', predicate = wdProperty(6), `object` = 'e') &:\n",
    "    AtomPattern(subject = 'e', predicate = wdProperty(6), `object` = 'd') &:   \n",
    "    AtomPattern(subject = 'd', predicate = wdProperty(102), `object` = 'a') &:\n",
    "    AtomPattern(subject = 'c', predicate = oneOfSalariesMeasures, `object` = AnyConstant) &:\n",
    "    AtomPattern(subject = 'c', predicate = qbDataSet, `object` = AnyConstant) &:\n",
    "    AtomPattern(subject = 'c', predicate = czsoRefPeriod, `object` = 'b') &:\n",
    "    AtomPattern(subject = 'a', predicate = appliesTo, `object` = 'b')\n",
    "    =>:\n",
    "    AtomPattern(subject = 'a', predicate = wdProperty(102), `object` = AnyConstant)\n",
    ")"
   ]
  },
  {
   "cell_type": "code",
   "execution_count": 48,
   "id": "fuzzy-traffic",
   "metadata": {},
   "outputs": [
    {
     "data": {
      "text/plain": [
       "\u001b[36msalariesPartyPatternTask\u001b[39m: \u001b[32mcom\u001b[39m.\u001b[32mgithub\u001b[39m.\u001b[32mpropi\u001b[39m.\u001b[32mrdfrules\u001b[39m.\u001b[32malgorithm\u001b[39m.\u001b[32mRulesMining\u001b[39m = com.github.propi.rdfrules.algorithm.amie.Amie@6ca53866"
      ]
     },
     "execution_count": 48,
     "metadata": {},
     "output_type": "execute_result"
    }
   ],
   "source": [
    "val salariesPartyPatternTask = Amie()\n",
    "    .addThreshold(Threshold.MinSupport(1))\n",
    "    .addThreshold(Threshold.MaxRuleLength(9))\n",
    "    .addThreshold(Threshold.MinHeadSize(0))\n",
    "    .addThreshold(Threshold.Timeout(1))\n",
    "    .addConstraint(constantsOnlyAtObject)\n",
    "    .addPattern(salariesPartyPattern)"
   ]
  },
  {
   "cell_type": "code",
   "execution_count": 49,
   "id": "beginning-murray",
   "metadata": {},
   "outputs": [
    {
     "name": "stderr",
     "output_type": "stream",
     "text": [
      "2021-10-27 08:45:56:055 +0200 [scala-interpreter-1] INFO com.github.propi.rdfrules.utils.Debugger - Amie task settings:\n",
      "MinHeadSize=1,\n",
      "MinHeadCoverage=0.0,\n",
      "MinSupport=1,\n",
      "MaxThreads=4,\n",
      "MinAtomSize=0,\n",
      "MaxRuleLength=9,\n",
      "WithConstants=true,\n",
      "ConstantsPosition=Object,\n",
      "Timeout=60000,\n",
      "WithDuplicitPredicates=true,\n",
      "Patterns=List(Mapped(Vector(Mapped(Variable(?c),Constant(Constant(1481837794)),Variable(?f),Any), Mapped(Variable(?f),Constant(Constant(774364698)),Variable(?e),Any), Mapped(Variable(?e),Constant(Constant(774364698)),Variable(?d),Any), Mapped(Variable(?d),Constant(Constant(52500897)),Variable(?a),Any), Mapped(Variable(?c),OneOf(ArrayBuffer(Constant(Constant(1433642368)), Constant(Constant(1396113393)))),AnyConstant,Any), Mapped(Variable(?c),Constant(Constant(624690160)),AnyConstant,Any), Mapped(Variable(?c),Constant(Constant(-901057765)),Variable(?b),Any), Mapped(Variable(?a),Constant(Constant(217712947)),Variable(?b),Any)),Some(Mapped(Variable(?a),Constant(Constant(52500897)),AnyConstant,Any)),false,false)),\n",
      "OnlyPredicates=None,\n",
      "WithoutPredicates=None\n"
     ]
    },
    {
     "name": "stdout",
     "output_type": "stream",
     "text": [
      "rules: 296\n",
      "duration: 0s\n"
     ]
    },
    {
     "data": {
      "text/plain": [
       "\u001b[36mstartTimeMillis\u001b[39m: \u001b[32mLong\u001b[39m = \u001b[32m1635317156055L\u001b[39m\n",
       "\u001b[36msalariesPartyPatternTaskRuleset\u001b[39m: \u001b[32mRuleset\u001b[39m = com.github.propi.rdfrules.ruleset.Ruleset@2c41d37e\n",
       "\u001b[36mendTimeMillis\u001b[39m: \u001b[32mLong\u001b[39m = \u001b[32m1635317156891L\u001b[39m\n",
       "\u001b[36mdurationSeconds\u001b[39m: \u001b[32mLong\u001b[39m = \u001b[32m0L\u001b[39m"
      ]
     },
     "execution_count": 49,
     "metadata": {},
     "output_type": "execute_result"
    }
   ],
   "source": [
    "val startTimeMillis = System.currentTimeMillis()\n",
    "val salariesPartyPatternTaskRuleset = index.mine(salariesPartyPatternTask)\n",
    "println(\"rules: \"+salariesPartyPatternTaskRuleset.size)\n",
    "val endTimeMillis = System.currentTimeMillis()\n",
    "val durationSeconds = (endTimeMillis - startTimeMillis) / 1000\n",
    "println(\"duration: \" + durationSeconds + \"s\")"
   ]
  },
  {
   "cell_type": "code",
   "execution_count": 50,
   "id": "fundamental-faith",
   "metadata": {},
   "outputs": [],
   "source": [
    "salariesPartyPatternTaskRuleset.export(\"../rulesets/salaries-wikidata/salariesPartyPatternTaskRuleset.txt\")"
   ]
  },
  {
   "cell_type": "code",
   "execution_count": 52,
   "id": "neutral-grocery",
   "metadata": {},
   "outputs": [],
   "source": [
    "salariesPartyPatternTaskRuleset\n",
    ".filter(rule => rule.measures(Measure.Support).value > 1)\n",
    ".computePcaConfidence(0.0)\n",
    ".sortBy(Measure.PcaConfidence, Measure.Support)\n",
    ".export(\"../rulesets/salaries-wikidata/salariesPartyPatternTaskRulesetFiltered.txt\")"
   ]
  },
  {
   "cell_type": "code",
   "execution_count": 53,
   "id": "better-wiring",
   "metadata": {},
   "outputs": [
    {
     "data": {
      "text/plain": [
       "\u001b[36malignmentSalariesPattern\u001b[39m: \u001b[32mRulePattern\u001b[39m = \u001b[33mRulePattern\u001b[39m(\n",
       "  \u001b[33mVector\u001b[39m(\n",
       "    \u001b[33mAtomPattern\u001b[39m(\n",
       "      \u001b[33mVariable\u001b[39m(\u001b[33mVariable\u001b[39m(\u001b[32m0\u001b[39m)),\n",
       "      \u001b[33mConstant\u001b[39m(\u001b[33mLongUri\u001b[39m(\u001b[32m\"http://data.czso.cz/ontology/refArea\"\u001b[39m)),\n",
       "      \u001b[33mVariable\u001b[39m(\u001b[33mVariable\u001b[39m(\u001b[32m6\u001b[39m)),\n",
       "      Any\n",
       "    ),\n",
       "    \u001b[33mAtomPattern\u001b[39m(\n",
       "      \u001b[33mVariable\u001b[39m(\u001b[33mVariable\u001b[39m(\u001b[32m6\u001b[39m)),\n",
       "      \u001b[33mConstant\u001b[39m(\u001b[33mLongUri\u001b[39m(\u001b[32m\"http://www.wikidata.org/prop/P6\"\u001b[39m)),\n",
       "      \u001b[33mVariable\u001b[39m(\u001b[33mVariable\u001b[39m(\u001b[32m5\u001b[39m)),\n",
       "      Any\n",
       "    ),\n",
       "    \u001b[33mAtomPattern\u001b[39m(\n",
       "      \u001b[33mVariable\u001b[39m(\u001b[33mVariable\u001b[39m(\u001b[32m5\u001b[39m)),\n",
       "      \u001b[33mConstant\u001b[39m(\u001b[33mLongUri\u001b[39m(\u001b[32m\"http://www.wikidata.org/prop/P6\"\u001b[39m)),\n",
       "      \u001b[33mVariable\u001b[39m(\u001b[33mVariable\u001b[39m(\u001b[32m4\u001b[39m)),\n",
       "      Any\n",
       "    ),\n",
       "    \u001b[33mAtomPattern\u001b[39m(\n",
       "      \u001b[33mVariable\u001b[39m(\u001b[33mVariable\u001b[39m(\u001b[32m4\u001b[39m)),\n",
       "      \u001b[33mConstant\u001b[39m(\u001b[33mLongUri\u001b[39m(\u001b[32m\"http://www.wikidata.org/prop/P102\"\u001b[39m)),\n",
       "      \u001b[33mVariable\u001b[39m(\u001b[33mVariable\u001b[39m(\u001b[32m2\u001b[39m)),\n",
       "      Any\n",
       "    ),\n",
       "    \u001b[33mAtomPattern\u001b[39m(\n",
       "      \u001b[33mVariable\u001b[39m(\u001b[33mVariable\u001b[39m(\u001b[32m3\u001b[39m)),\n",
       "      \u001b[33mConstant\u001b[39m(\u001b[33mLongUri\u001b[39m(\u001b[32m\"http://www.wikidata.org/prop/P1387\"\u001b[39m)),\n",
       "      Any,\n",
       "      Any\n",
       "    ),\n",
       "    \u001b[33mAtomPattern\u001b[39m(\n",
       "      \u001b[33mVariable\u001b[39m(\u001b[33mVariable\u001b[39m(\u001b[32m2\u001b[39m)),\n",
       "      \u001b[33mConstant\u001b[39m(\u001b[33mLongUri\u001b[39m(\u001b[32m\"http://www.wikidata.org/prop/P102\"\u001b[39m)),\n",
       "      \u001b[33mVariable\u001b[39m(\u001b[33mVariable\u001b[39m(\u001b[32m3\u001b[39m)),\n",
       "      Any\n",
       "    ),\n",
       "    \u001b[33mAtomPattern\u001b[39m(\n",
       "..."
      ]
     },
     "execution_count": 53,
     "metadata": {},
     "output_type": "execute_result"
    }
   ],
   "source": [
    "val alignmentSalariesPattern: RulePattern = (\n",
    "    AtomPattern(subject = 'a', predicate = czsoRefArea, `object` = 'g') &:\n",
    "    AtomPattern(subject = 'g', predicate = wdProperty(6), `object` = 'f') &:\n",
    "    AtomPattern(subject = 'f', predicate = wdProperty(6), `object` = 'e') &:\n",
    "    AtomPattern(subject = 'e', predicate = wdProperty(102), `object` = 'c') &:  \n",
    "    AtomPattern(subject = 'd', predicate = wdProperty(1387)) &:\n",
    "    AtomPattern(subject = 'c', predicate = wdProperty(102), `object` = 'd') &:\n",
    "    AtomPattern(subject = 'c', predicate = appliesTo, `object` = 'b') &:\n",
    "    AtomPattern(subject = 'a', predicate = czsoRefPeriod, `object` = 'b') &:\n",
    "    AtomPattern(subject = 'a', predicate = qbDataSet, `object` = AnyConstant)\n",
    "    =>:\n",
    "    AtomPattern(subject = 'a', predicate = oneOfSalariesMeasures)\n",
    ")"
   ]
  },
  {
   "cell_type": "code",
   "execution_count": 54,
   "id": "assisted-schedule",
   "metadata": {},
   "outputs": [
    {
     "data": {
      "text/plain": [
       "\u001b[36malignmentSalariesPatternTask\u001b[39m: \u001b[32mcom\u001b[39m.\u001b[32mgithub\u001b[39m.\u001b[32mpropi\u001b[39m.\u001b[32mrdfrules\u001b[39m.\u001b[32malgorithm\u001b[39m.\u001b[32mRulesMining\u001b[39m = com.github.propi.rdfrules.algorithm.amie.Amie@75161a7f"
      ]
     },
     "execution_count": 54,
     "metadata": {},
     "output_type": "execute_result"
    }
   ],
   "source": [
    "val alignmentSalariesPatternTask = Amie()\n",
    "    .addThreshold(Threshold.MinSupport(1))\n",
    "    .addThreshold(Threshold.MaxRuleLength(10))\n",
    "    .addThreshold(Threshold.MinHeadSize(0))\n",
    "    .addThreshold(Threshold.Timeout(1))\n",
    "    .addConstraint(constantsOnlyAtObject)\n",
    "    .addPattern(alignmentSalariesPattern)"
   ]
  },
  {
   "cell_type": "code",
   "execution_count": 55,
   "id": "naughty-trinity",
   "metadata": {},
   "outputs": [
    {
     "name": "stderr",
     "output_type": "stream",
     "text": [
      "2021-10-27 08:49:49:626 +0200 [scala-interpreter-1] INFO com.github.propi.rdfrules.utils.Debugger - Amie task settings:\n",
      "MinHeadSize=1,\n",
      "MinHeadCoverage=0.0,\n",
      "MinSupport=1,\n",
      "MaxThreads=4,\n",
      "MinAtomSize=0,\n",
      "MaxRuleLength=10,\n",
      "WithConstants=true,\n",
      "ConstantsPosition=Object,\n",
      "Timeout=60000,\n",
      "WithDuplicitPredicates=true,\n",
      "Patterns=List(Mapped(Vector(Mapped(Variable(?a),Constant(Constant(1481837794)),Variable(?g),Any), Mapped(Variable(?g),Constant(Constant(774364698)),Variable(?f),Any), Mapped(Variable(?f),Constant(Constant(774364698)),Variable(?e),Any), Mapped(Variable(?e),Constant(Constant(52500897)),Variable(?c),Any), Mapped(Variable(?d),Constant(Constant(1496784743)),Any,Any), Mapped(Variable(?c),Constant(Constant(52500897)),Variable(?d),Any), Mapped(Variable(?c),Constant(Constant(217712947)),Variable(?b),Any), Mapped(Variable(?a),Constant(Constant(-901057765)),Variable(?b),Any), Mapped(Variable(?a),Constant(Constant(624690160)),AnyConstant,Any)),Some(Mapped(Variable(?a),OneOf(ArrayBuffer(Constant(Constant(1433642368)), Constant(Constant(1396113393)))),Any,Any)),false,false)),\n",
      "OnlyPredicates=None,\n",
      "WithoutPredicates=None\n"
     ]
    },
    {
     "name": "stdout",
     "output_type": "stream",
     "text": [
      "rules: 251\n",
      "duration: 1s\n"
     ]
    },
    {
     "data": {
      "text/plain": [
       "\u001b[36mstartTimeMillis\u001b[39m: \u001b[32mLong\u001b[39m = \u001b[32m1635317389625L\u001b[39m\n",
       "\u001b[36malignmentSalariesPatternTaskRuleset\u001b[39m: \u001b[32mRuleset\u001b[39m = com.github.propi.rdfrules.ruleset.Ruleset@3efad6eb\n",
       "\u001b[36mendTimeMillis\u001b[39m: \u001b[32mLong\u001b[39m = \u001b[32m1635317391494L\u001b[39m\n",
       "\u001b[36mdurationSeconds\u001b[39m: \u001b[32mLong\u001b[39m = \u001b[32m1L\u001b[39m"
      ]
     },
     "execution_count": 55,
     "metadata": {},
     "output_type": "execute_result"
    }
   ],
   "source": [
    "val startTimeMillis = System.currentTimeMillis()\n",
    "val alignmentSalariesPatternTaskRuleset = index.mine(alignmentSalariesPatternTask)\n",
    "println(\"rules: \"+alignmentSalariesPatternTaskRuleset.size)\n",
    "val endTimeMillis = System.currentTimeMillis()\n",
    "val durationSeconds = (endTimeMillis - startTimeMillis) / 1000\n",
    "println(\"duration: \" + durationSeconds + \"s\")"
   ]
  },
  {
   "cell_type": "code",
   "execution_count": 56,
   "id": "broken-translator",
   "metadata": {},
   "outputs": [],
   "source": [
    "alignmentSalariesPatternTaskRuleset.export(\"../rulesets/salaries-wikidata/alignmentSalariesPatternTaskRuleset.txt\")"
   ]
  },
  {
   "cell_type": "code",
   "execution_count": 57,
   "id": "secure-adult",
   "metadata": {},
   "outputs": [],
   "source": [
    "alignmentSalariesPatternTaskRuleset\n",
    ".filter(rule => rule.measures(Measure.Support).value > 1)\n",
    ".computePcaConfidence(0.0)\n",
    ".sortBy(Measure.PcaConfidence, Measure.Support)\n",
    ".export(\"../rulesets/salaries-wikidata/alignmentSalariesPatternTaskRulesetFiltered.txt\")"
   ]
  },
  {
   "cell_type": "code",
   "execution_count": 58,
   "id": "driving-wings",
   "metadata": {},
   "outputs": [
    {
     "data": {
      "text/plain": [
       "\u001b[36mpartySalariesPattern\u001b[39m: \u001b[32mRulePattern\u001b[39m = \u001b[33mRulePattern\u001b[39m(\n",
       "  \u001b[33mVector\u001b[39m(\n",
       "    \u001b[33mAtomPattern\u001b[39m(\n",
       "      \u001b[33mVariable\u001b[39m(\u001b[33mVariable\u001b[39m(\u001b[32m0\u001b[39m)),\n",
       "      \u001b[33mConstant\u001b[39m(\u001b[33mLongUri\u001b[39m(\u001b[32m\"http://data.czso.cz/ontology/refArea\"\u001b[39m)),\n",
       "      \u001b[33mVariable\u001b[39m(\u001b[33mVariable\u001b[39m(\u001b[32m5\u001b[39m)),\n",
       "      Any\n",
       "    ),\n",
       "    \u001b[33mAtomPattern\u001b[39m(\n",
       "      \u001b[33mVariable\u001b[39m(\u001b[33mVariable\u001b[39m(\u001b[32m5\u001b[39m)),\n",
       "      \u001b[33mConstant\u001b[39m(\u001b[33mLongUri\u001b[39m(\u001b[32m\"http://www.wikidata.org/prop/P6\"\u001b[39m)),\n",
       "      \u001b[33mVariable\u001b[39m(\u001b[33mVariable\u001b[39m(\u001b[32m4\u001b[39m)),\n",
       "      Any\n",
       "    ),\n",
       "    \u001b[33mAtomPattern\u001b[39m(\n",
       "      \u001b[33mVariable\u001b[39m(\u001b[33mVariable\u001b[39m(\u001b[32m4\u001b[39m)),\n",
       "      \u001b[33mConstant\u001b[39m(\u001b[33mLongUri\u001b[39m(\u001b[32m\"http://www.wikidata.org/prop/P6\"\u001b[39m)),\n",
       "      \u001b[33mVariable\u001b[39m(\u001b[33mVariable\u001b[39m(\u001b[32m3\u001b[39m)),\n",
       "      Any\n",
       "    ),\n",
       "    \u001b[33mAtomPattern\u001b[39m(\n",
       "      \u001b[33mVariable\u001b[39m(\u001b[33mVariable\u001b[39m(\u001b[32m3\u001b[39m)),\n",
       "      \u001b[33mConstant\u001b[39m(\u001b[33mLongUri\u001b[39m(\u001b[32m\"http://www.wikidata.org/prop/P102\"\u001b[39m)),\n",
       "      \u001b[33mVariable\u001b[39m(\u001b[33mVariable\u001b[39m(\u001b[32m2\u001b[39m)),\n",
       "      Any\n",
       "    ),\n",
       "    \u001b[33mAtomPattern\u001b[39m(\n",
       "      \u001b[33mVariable\u001b[39m(\u001b[33mVariable\u001b[39m(\u001b[32m2\u001b[39m)),\n",
       "      \u001b[33mConstant\u001b[39m(\u001b[33mLongUri\u001b[39m(\u001b[32m\"http://www.wikidata.org/prop/P102\"\u001b[39m)),\n",
       "      AnyConstant,\n",
       "      Any\n",
       "    ),\n",
       "    \u001b[33mAtomPattern\u001b[39m(\n",
       "      \u001b[33mVariable\u001b[39m(\u001b[33mVariable\u001b[39m(\u001b[32m2\u001b[39m)),\n",
       "      \u001b[33mConstant\u001b[39m(\n",
       "        \u001b[33mLongUri\u001b[39m(\u001b[32m\"http://kizi.vse.cz/novp19/diploma-thesis/appliesToRefPeriod\"\u001b[39m)\n",
       "      ),\n",
       "      \u001b[33mVariable\u001b[39m(\u001b[33mVariable\u001b[39m(\u001b[32m1\u001b[39m)),\n",
       "      Any\n",
       "..."
      ]
     },
     "execution_count": 58,
     "metadata": {},
     "output_type": "execute_result"
    }
   ],
   "source": [
    "val partySalariesPattern: RulePattern = (\n",
    "    AtomPattern(subject = 'a', predicate = czsoRefArea, `object` = 'f') &:\n",
    "    AtomPattern(subject = 'f', predicate = wdProperty(6), `object` = 'e') &:\n",
    "    AtomPattern(subject = 'e', predicate = wdProperty(6), `object` = 'd') &:\n",
    "    AtomPattern(subject = 'd', predicate = wdProperty(102), `object` = 'c') &:  \n",
    "    AtomPattern(subject = 'c', predicate = wdProperty(102), `object` = AnyConstant) &:\n",
    "    AtomPattern(subject = 'c', predicate = appliesTo, `object` = 'b') &:\n",
    "    AtomPattern(subject = 'a', predicate = czsoRefPeriod, `object` = 'b') &:\n",
    "    AtomPattern(subject = 'a', predicate = qbDataSet, `object` = AnyConstant)\n",
    "    =>:\n",
    "    AtomPattern(subject = 'a', predicate = oneOfSalariesMeasures)\n",
    ")"
   ]
  },
  {
   "cell_type": "code",
   "execution_count": 59,
   "id": "graphic-invalid",
   "metadata": {},
   "outputs": [
    {
     "data": {
      "text/plain": [
       "\u001b[36mpartySalariesPatternTask\u001b[39m: \u001b[32mcom\u001b[39m.\u001b[32mgithub\u001b[39m.\u001b[32mpropi\u001b[39m.\u001b[32mrdfrules\u001b[39m.\u001b[32malgorithm\u001b[39m.\u001b[32mRulesMining\u001b[39m = com.github.propi.rdfrules.algorithm.amie.Amie@786c0c61"
      ]
     },
     "execution_count": 59,
     "metadata": {},
     "output_type": "execute_result"
    }
   ],
   "source": [
    "val partySalariesPatternTask = Amie()\n",
    "    .addThreshold(Threshold.MinSupport(1))\n",
    "    .addThreshold(Threshold.MaxRuleLength(9))\n",
    "    .addThreshold(Threshold.MinHeadSize(0))\n",
    "    .addThreshold(Threshold.Timeout(1))\n",
    "    .addPattern(partySalariesPattern)"
   ]
  },
  {
   "cell_type": "code",
   "execution_count": 60,
   "id": "animated-french",
   "metadata": {},
   "outputs": [
    {
     "name": "stderr",
     "output_type": "stream",
     "text": [
      "2021-10-27 08:56:03:356 +0200 [scala-interpreter-1] INFO com.github.propi.rdfrules.utils.Debugger - Amie task settings:\n",
      "MinHeadSize=1,\n",
      "MinHeadCoverage=0.0,\n",
      "MinSupport=1,\n",
      "MaxThreads=4,\n",
      "MinAtomSize=0,\n",
      "MaxRuleLength=9,\n",
      "WithConstants=true,\n",
      "ConstantsPosition=All,\n",
      "Timeout=60000,\n",
      "WithDuplicitPredicates=true,\n",
      "Patterns=List(Mapped(Vector(Mapped(Variable(?a),Constant(Constant(1481837794)),Variable(?f),Any), Mapped(Variable(?f),Constant(Constant(774364698)),Variable(?e),Any), Mapped(Variable(?e),Constant(Constant(774364698)),Variable(?d),Any), Mapped(Variable(?d),Constant(Constant(52500897)),Variable(?c),Any), Mapped(Variable(?c),Constant(Constant(52500897)),AnyConstant,Any), Mapped(Variable(?c),Constant(Constant(217712947)),Variable(?b),Any), Mapped(Variable(?a),Constant(Constant(-901057765)),Variable(?b),Any), Mapped(Variable(?a),Constant(Constant(624690160)),AnyConstant,Any)),Some(Mapped(Variable(?a),OneOf(ArrayBuffer(Constant(Constant(1433642368)), Constant(Constant(1396113393)))),Any,Any)),false,false)),\n",
      "OnlyPredicates=None,\n",
      "WithoutPredicates=None\n"
     ]
    },
    {
     "name": "stdout",
     "output_type": "stream",
     "text": [
      "rules: 296\n",
      "duration: 1s\n"
     ]
    },
    {
     "data": {
      "text/plain": [
       "\u001b[36mstartTimeMillis\u001b[39m: \u001b[32mLong\u001b[39m = \u001b[32m1635317763355L\u001b[39m\n",
       "\u001b[36mpartySalariesPatternTaskRuleset\u001b[39m: \u001b[32mRuleset\u001b[39m = com.github.propi.rdfrules.ruleset.Ruleset@575032da\n",
       "\u001b[36mendTimeMillis\u001b[39m: \u001b[32mLong\u001b[39m = \u001b[32m1635317765092L\u001b[39m\n",
       "\u001b[36mdurationSeconds\u001b[39m: \u001b[32mLong\u001b[39m = \u001b[32m1L\u001b[39m"
      ]
     },
     "execution_count": 60,
     "metadata": {},
     "output_type": "execute_result"
    }
   ],
   "source": [
    "val startTimeMillis = System.currentTimeMillis()\n",
    "\n",
    "val partySalariesPatternTaskRuleset = index.mine(partySalariesPatternTask)\n",
    "println(\"rules: \"+partySalariesPatternTaskRuleset.size)\n",
    "val endTimeMillis = System.currentTimeMillis()\n",
    "val durationSeconds = (endTimeMillis - startTimeMillis) / 1000\n",
    "println(\"duration: \" + durationSeconds + \"s\")"
   ]
  },
  {
   "cell_type": "code",
   "execution_count": 61,
   "id": "applicable-stage",
   "metadata": {},
   "outputs": [],
   "source": [
    "partySalariesPatternTaskRuleset.export(\"../rulesets/salaries-wikidata/partySalariesPatternTaskRuleset.txt\")"
   ]
  },
  {
   "cell_type": "code",
   "execution_count": 62,
   "id": "persistent-houston",
   "metadata": {},
   "outputs": [],
   "source": [
    "partySalariesPatternTaskRuleset\n",
    ".filter(rule => rule.measures(Measure.Support).value > 1)\n",
    ".computePcaConfidence(0.0)\n",
    ".sortBy(Measure.PcaConfidence, Measure.Support)\n",
    ".export(\"../rulesets/salaries-wikidata/partySalariesPatternTaskRulesetFiltered.txt\")"
   ]
  }
 ],
 "metadata": {
  "kernelspec": {
   "display_name": "Scala",
   "language": "scala",
   "name": "scala"
  },
  "language_info": {
   "codemirror_mode": "text/x-scala",
   "file_extension": ".sc",
   "mimetype": "text/x-scala",
   "name": "scala",
   "nbconvert_exporter": "script",
   "version": "2.12.8"
  }
 },
 "nbformat": 4,
 "nbformat_minor": 5
}
